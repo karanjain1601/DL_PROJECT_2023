{
  "nbformat": 4,
  "nbformat_minor": 0,
  "metadata": {
    "colab": {
      "provenance": []
    },
    "kernelspec": {
      "name": "python3",
      "display_name": "Python 3"
    },
    "language_info": {
      "name": "python"
    },
    "accelerator": "GPU",
    "gpuClass": "standard",
    "widgets": {
      "application/vnd.jupyter.widget-state+json": {
        "3495cb3c94fc4b4c819b010157cdd7ba": {
          "model_module": "@jupyter-widgets/controls",
          "model_name": "VBoxModel",
          "model_module_version": "1.5.0",
          "state": {
            "_dom_classes": [],
            "_model_module": "@jupyter-widgets/controls",
            "_model_module_version": "1.5.0",
            "_model_name": "VBoxModel",
            "_view_count": null,
            "_view_module": "@jupyter-widgets/controls",
            "_view_module_version": "1.5.0",
            "_view_name": "VBoxView",
            "box_style": "",
            "children": [
              "IPY_MODEL_5685dfc59b954bbda049c33ee3f80553",
              "IPY_MODEL_7eb98f8f59e24b3f972f53ae6f6853ff"
            ],
            "layout": "IPY_MODEL_526ef438c7b94b42bedbdd307db788cc"
          }
        },
        "5685dfc59b954bbda049c33ee3f80553": {
          "model_module": "@jupyter-widgets/controls",
          "model_name": "LabelModel",
          "model_module_version": "1.5.0",
          "state": {
            "_dom_classes": [],
            "_model_module": "@jupyter-widgets/controls",
            "_model_module_version": "1.5.0",
            "_model_name": "LabelModel",
            "_view_count": null,
            "_view_module": "@jupyter-widgets/controls",
            "_view_module_version": "1.5.0",
            "_view_name": "LabelView",
            "description": "",
            "description_tooltip": null,
            "layout": "IPY_MODEL_160ebb99050843baa915bd25aee0744c",
            "placeholder": "​",
            "style": "IPY_MODEL_01c3ebba4ca04b3e95427d696014f5ce",
            "value": "0.001 MB of 0.001 MB uploaded (0.000 MB deduped)\r"
          }
        },
        "7eb98f8f59e24b3f972f53ae6f6853ff": {
          "model_module": "@jupyter-widgets/controls",
          "model_name": "FloatProgressModel",
          "model_module_version": "1.5.0",
          "state": {
            "_dom_classes": [],
            "_model_module": "@jupyter-widgets/controls",
            "_model_module_version": "1.5.0",
            "_model_name": "FloatProgressModel",
            "_view_count": null,
            "_view_module": "@jupyter-widgets/controls",
            "_view_module_version": "1.5.0",
            "_view_name": "ProgressView",
            "bar_style": "",
            "description": "",
            "description_tooltip": null,
            "layout": "IPY_MODEL_476a035a6aee4a0dbf92f6658591f410",
            "max": 1,
            "min": 0,
            "orientation": "horizontal",
            "style": "IPY_MODEL_7b736400e07b40619bea05ed5d7dd2f7",
            "value": 1
          }
        },
        "526ef438c7b94b42bedbdd307db788cc": {
          "model_module": "@jupyter-widgets/base",
          "model_name": "LayoutModel",
          "model_module_version": "1.2.0",
          "state": {
            "_model_module": "@jupyter-widgets/base",
            "_model_module_version": "1.2.0",
            "_model_name": "LayoutModel",
            "_view_count": null,
            "_view_module": "@jupyter-widgets/base",
            "_view_module_version": "1.2.0",
            "_view_name": "LayoutView",
            "align_content": null,
            "align_items": null,
            "align_self": null,
            "border": null,
            "bottom": null,
            "display": null,
            "flex": null,
            "flex_flow": null,
            "grid_area": null,
            "grid_auto_columns": null,
            "grid_auto_flow": null,
            "grid_auto_rows": null,
            "grid_column": null,
            "grid_gap": null,
            "grid_row": null,
            "grid_template_areas": null,
            "grid_template_columns": null,
            "grid_template_rows": null,
            "height": null,
            "justify_content": null,
            "justify_items": null,
            "left": null,
            "margin": null,
            "max_height": null,
            "max_width": null,
            "min_height": null,
            "min_width": null,
            "object_fit": null,
            "object_position": null,
            "order": null,
            "overflow": null,
            "overflow_x": null,
            "overflow_y": null,
            "padding": null,
            "right": null,
            "top": null,
            "visibility": null,
            "width": null
          }
        },
        "160ebb99050843baa915bd25aee0744c": {
          "model_module": "@jupyter-widgets/base",
          "model_name": "LayoutModel",
          "model_module_version": "1.2.0",
          "state": {
            "_model_module": "@jupyter-widgets/base",
            "_model_module_version": "1.2.0",
            "_model_name": "LayoutModel",
            "_view_count": null,
            "_view_module": "@jupyter-widgets/base",
            "_view_module_version": "1.2.0",
            "_view_name": "LayoutView",
            "align_content": null,
            "align_items": null,
            "align_self": null,
            "border": null,
            "bottom": null,
            "display": null,
            "flex": null,
            "flex_flow": null,
            "grid_area": null,
            "grid_auto_columns": null,
            "grid_auto_flow": null,
            "grid_auto_rows": null,
            "grid_column": null,
            "grid_gap": null,
            "grid_row": null,
            "grid_template_areas": null,
            "grid_template_columns": null,
            "grid_template_rows": null,
            "height": null,
            "justify_content": null,
            "justify_items": null,
            "left": null,
            "margin": null,
            "max_height": null,
            "max_width": null,
            "min_height": null,
            "min_width": null,
            "object_fit": null,
            "object_position": null,
            "order": null,
            "overflow": null,
            "overflow_x": null,
            "overflow_y": null,
            "padding": null,
            "right": null,
            "top": null,
            "visibility": null,
            "width": null
          }
        },
        "01c3ebba4ca04b3e95427d696014f5ce": {
          "model_module": "@jupyter-widgets/controls",
          "model_name": "DescriptionStyleModel",
          "model_module_version": "1.5.0",
          "state": {
            "_model_module": "@jupyter-widgets/controls",
            "_model_module_version": "1.5.0",
            "_model_name": "DescriptionStyleModel",
            "_view_count": null,
            "_view_module": "@jupyter-widgets/base",
            "_view_module_version": "1.2.0",
            "_view_name": "StyleView",
            "description_width": ""
          }
        },
        "476a035a6aee4a0dbf92f6658591f410": {
          "model_module": "@jupyter-widgets/base",
          "model_name": "LayoutModel",
          "model_module_version": "1.2.0",
          "state": {
            "_model_module": "@jupyter-widgets/base",
            "_model_module_version": "1.2.0",
            "_model_name": "LayoutModel",
            "_view_count": null,
            "_view_module": "@jupyter-widgets/base",
            "_view_module_version": "1.2.0",
            "_view_name": "LayoutView",
            "align_content": null,
            "align_items": null,
            "align_self": null,
            "border": null,
            "bottom": null,
            "display": null,
            "flex": null,
            "flex_flow": null,
            "grid_area": null,
            "grid_auto_columns": null,
            "grid_auto_flow": null,
            "grid_auto_rows": null,
            "grid_column": null,
            "grid_gap": null,
            "grid_row": null,
            "grid_template_areas": null,
            "grid_template_columns": null,
            "grid_template_rows": null,
            "height": null,
            "justify_content": null,
            "justify_items": null,
            "left": null,
            "margin": null,
            "max_height": null,
            "max_width": null,
            "min_height": null,
            "min_width": null,
            "object_fit": null,
            "object_position": null,
            "order": null,
            "overflow": null,
            "overflow_x": null,
            "overflow_y": null,
            "padding": null,
            "right": null,
            "top": null,
            "visibility": null,
            "width": null
          }
        },
        "7b736400e07b40619bea05ed5d7dd2f7": {
          "model_module": "@jupyter-widgets/controls",
          "model_name": "ProgressStyleModel",
          "model_module_version": "1.5.0",
          "state": {
            "_model_module": "@jupyter-widgets/controls",
            "_model_module_version": "1.5.0",
            "_model_name": "ProgressStyleModel",
            "_view_count": null,
            "_view_module": "@jupyter-widgets/base",
            "_view_module_version": "1.2.0",
            "_view_name": "StyleView",
            "bar_color": null,
            "description_width": ""
          }
        }
      }
    }
  },
  "cells": [
    {
      "cell_type": "markdown",
      "source": [
        "# Imports and Installs"
      ],
      "metadata": {
        "id": "Ty8YP4TNd3SN"
      }
    },
    {
      "cell_type": "code",
      "source": [
        "!pip install wandb"
      ],
      "metadata": {
        "colab": {
          "base_uri": "https://localhost:8080/"
        },
        "id": "s27QlAzX_Qt7",
        "outputId": "a3f535ef-7799-493e-932c-acd7ff7de797"
      },
      "execution_count": 1,
      "outputs": [
        {
          "output_type": "stream",
          "name": "stdout",
          "text": [
            "Looking in indexes: https://pypi.org/simple, https://us-python.pkg.dev/colab-wheels/public/simple/\n",
            "Collecting wandb\n",
            "  Downloading wandb-0.15.2-py3-none-any.whl (2.0 MB)\n",
            "\u001b[2K     \u001b[90m━━━━━━━━━━━━━━━━━━━━━━━━━━━━━━━━━━━━━━━━\u001b[0m \u001b[32m2.0/2.0 MB\u001b[0m \u001b[31m27.3 MB/s\u001b[0m eta \u001b[36m0:00:00\u001b[0m\n",
            "\u001b[?25hRequirement already satisfied: Click!=8.0.0,>=7.0 in /usr/local/lib/python3.10/dist-packages (from wandb) (8.1.3)\n",
            "Collecting GitPython!=3.1.29,>=1.0.0 (from wandb)\n",
            "  Downloading GitPython-3.1.31-py3-none-any.whl (184 kB)\n",
            "\u001b[2K     \u001b[90m━━━━━━━━━━━━━━━━━━━━━━━━━━━━━━━━━━━━━━\u001b[0m \u001b[32m184.3/184.3 kB\u001b[0m \u001b[31m23.9 MB/s\u001b[0m eta \u001b[36m0:00:00\u001b[0m\n",
            "\u001b[?25hRequirement already satisfied: requests<3,>=2.0.0 in /usr/local/lib/python3.10/dist-packages (from wandb) (2.27.1)\n",
            "Requirement already satisfied: psutil>=5.0.0 in /usr/local/lib/python3.10/dist-packages (from wandb) (5.9.5)\n",
            "Collecting sentry-sdk>=1.0.0 (from wandb)\n",
            "  Downloading sentry_sdk-1.22.2-py2.py3-none-any.whl (203 kB)\n",
            "\u001b[2K     \u001b[90m━━━━━━━━━━━━━━━━━━━━━━━━━━━━━━━━━━━━━━\u001b[0m \u001b[32m203.3/203.3 kB\u001b[0m \u001b[31m24.8 MB/s\u001b[0m eta \u001b[36m0:00:00\u001b[0m\n",
            "\u001b[?25hCollecting docker-pycreds>=0.4.0 (from wandb)\n",
            "  Downloading docker_pycreds-0.4.0-py2.py3-none-any.whl (9.0 kB)\n",
            "Requirement already satisfied: PyYAML in /usr/local/lib/python3.10/dist-packages (from wandb) (6.0)\n",
            "Collecting pathtools (from wandb)\n",
            "  Downloading pathtools-0.1.2.tar.gz (11 kB)\n",
            "  Preparing metadata (setup.py) ... \u001b[?25l\u001b[?25hdone\n",
            "Collecting setproctitle (from wandb)\n",
            "  Downloading setproctitle-1.3.2-cp310-cp310-manylinux_2_5_x86_64.manylinux1_x86_64.manylinux_2_17_x86_64.manylinux2014_x86_64.whl (30 kB)\n",
            "Requirement already satisfied: setuptools in /usr/local/lib/python3.10/dist-packages (from wandb) (67.7.2)\n",
            "Requirement already satisfied: appdirs>=1.4.3 in /usr/local/lib/python3.10/dist-packages (from wandb) (1.4.4)\n",
            "Requirement already satisfied: protobuf!=4.21.0,<5,>=3.19.0 in /usr/local/lib/python3.10/dist-packages (from wandb) (3.20.3)\n",
            "Requirement already satisfied: six>=1.4.0 in /usr/local/lib/python3.10/dist-packages (from docker-pycreds>=0.4.0->wandb) (1.16.0)\n",
            "Collecting gitdb<5,>=4.0.1 (from GitPython!=3.1.29,>=1.0.0->wandb)\n",
            "  Downloading gitdb-4.0.10-py3-none-any.whl (62 kB)\n",
            "\u001b[2K     \u001b[90m━━━━━━━━━━━━━━━━━━━━━━━━━━━━━━━━━━━━━━━━\u001b[0m \u001b[32m62.7/62.7 kB\u001b[0m \u001b[31m8.1 MB/s\u001b[0m eta \u001b[36m0:00:00\u001b[0m\n",
            "\u001b[?25hRequirement already satisfied: urllib3<1.27,>=1.21.1 in /usr/local/lib/python3.10/dist-packages (from requests<3,>=2.0.0->wandb) (1.26.15)\n",
            "Requirement already satisfied: certifi>=2017.4.17 in /usr/local/lib/python3.10/dist-packages (from requests<3,>=2.0.0->wandb) (2022.12.7)\n",
            "Requirement already satisfied: charset-normalizer~=2.0.0 in /usr/local/lib/python3.10/dist-packages (from requests<3,>=2.0.0->wandb) (2.0.12)\n",
            "Requirement already satisfied: idna<4,>=2.5 in /usr/local/lib/python3.10/dist-packages (from requests<3,>=2.0.0->wandb) (3.4)\n",
            "Collecting smmap<6,>=3.0.1 (from gitdb<5,>=4.0.1->GitPython!=3.1.29,>=1.0.0->wandb)\n",
            "  Downloading smmap-5.0.0-py3-none-any.whl (24 kB)\n",
            "Building wheels for collected packages: pathtools\n",
            "  Building wheel for pathtools (setup.py) ... \u001b[?25l\u001b[?25hdone\n",
            "  Created wheel for pathtools: filename=pathtools-0.1.2-py3-none-any.whl size=8791 sha256=42dd92d4615e00eeb61fc8857db46ca3e32f6827f9800eb1024f937656fbb916\n",
            "  Stored in directory: /root/.cache/pip/wheels/e7/f3/22/152153d6eb222ee7a56ff8617d80ee5207207a8c00a7aab794\n",
            "Successfully built pathtools\n",
            "Installing collected packages: pathtools, smmap, setproctitle, sentry-sdk, docker-pycreds, gitdb, GitPython, wandb\n",
            "Successfully installed GitPython-3.1.31 docker-pycreds-0.4.0 gitdb-4.0.10 pathtools-0.1.2 sentry-sdk-1.22.2 setproctitle-1.3.2 smmap-5.0.0 wandb-0.15.2\n"
          ]
        }
      ]
    },
    {
      "cell_type": "code",
      "metadata": {
        "id": "DPue4B2vPu2s",
        "colab": {
          "base_uri": "https://localhost:8080/"
        },
        "outputId": "fe147547-b609-4860-a1b3-1cc2e7dbf5f8"
      },
      "source": [
        "# import standard PyTorch modules\n",
        "import torch\n",
        "import torch.utils.data\n",
        "import torch.nn as nn\n",
        "import torch.nn.functional as F\n",
        "import torch.optim as optim\n",
        "from torch.utils.tensorboard import SummaryWriter # TensorBoard support\n",
        "import torch.profiler\n",
        "# import torchvision module to handle image manipulation\n",
        "import torchvision\n",
        "from torchvision import datasets \n",
        "import torchvision.transforms as transforms\n",
        "import torchvision.models as models\n",
        "from torchsummary import summary\n",
        "from tqdm import tqdm\n",
        "# calculate train time, writing train data to files etc.\n",
        "import time\n",
        "import pandas as pd\n",
        "import json\n",
        "import math\n",
        "import copy\n",
        "from IPython.display import clear_output\n",
        "from time import perf_counter\n",
        "from torch.autograd import Variable\n",
        "torch.set_printoptions(linewidth=120)\n",
        "torch.set_grad_enabled(True)     # On by default, leave it here for clarity"
      ],
      "execution_count": 2,
      "outputs": [
        {
          "output_type": "execute_result",
          "data": {
            "text/plain": [
              "<torch.autograd.grad_mode.set_grad_enabled at 0x7f30fa4fbee0>"
            ]
          },
          "metadata": {},
          "execution_count": 2
        }
      ]
    },
    {
      "cell_type": "code",
      "source": [
        "import numpy as np\n",
        "from torch.utils.data import Dataset, DataLoader, random_split"
      ],
      "metadata": {
        "id": "CesBIiQHQYRL"
      },
      "execution_count": 4,
      "outputs": []
    },
    {
      "cell_type": "code",
      "source": [
        "import matplotlib.pyplot as plt\n",
        "import seaborn"
      ],
      "metadata": {
        "id": "y5Av6YqnssFz"
      },
      "execution_count": 5,
      "outputs": []
    },
    {
      "cell_type": "code",
      "source": [
        "import matplotlib.image as mpimg"
      ],
      "metadata": {
        "id": "xQOmyV5ruNf9"
      },
      "execution_count": 6,
      "outputs": []
    },
    {
      "cell_type": "code",
      "metadata": {
        "id": "3iDlvtrBQZO3",
        "outputId": "a479b60c-7429-41c7-e4fb-8c24510df14c",
        "colab": {
          "base_uri": "https://localhost:8080/"
        }
      },
      "source": [
        "# check PyTorch versions\n",
        "print(torch.__version__)\n",
        "print(torchvision.__version__)"
      ],
      "execution_count": 7,
      "outputs": [
        {
          "output_type": "stream",
          "name": "stdout",
          "text": [
            "2.0.0+cu118\n",
            "0.15.1+cu118\n"
          ]
        }
      ]
    },
    {
      "cell_type": "code",
      "source": [
        "import wandb"
      ],
      "metadata": {
        "id": "CojWu8cMDc-j"
      },
      "execution_count": 8,
      "outputs": []
    },
    {
      "cell_type": "markdown",
      "source": [
        "# Logging into WandB\n"
      ],
      "metadata": {
        "id": "kaAPJzOC_cCD"
      }
    },
    {
      "cell_type": "code",
      "source": [
        "wandb.login()"
      ],
      "metadata": {
        "colab": {
          "base_uri": "https://localhost:8080/",
          "height": 126
        },
        "id": "TehLE0Z5_fxY",
        "outputId": "5110815e-494f-42a9-d276-84c5847be55c"
      },
      "execution_count": 9,
      "outputs": [
        {
          "output_type": "display_data",
          "data": {
            "text/plain": [
              "<IPython.core.display.Javascript object>"
            ],
            "application/javascript": [
              "\n",
              "        window._wandbApiKey = new Promise((resolve, reject) => {\n",
              "            function loadScript(url) {\n",
              "            return new Promise(function(resolve, reject) {\n",
              "                let newScript = document.createElement(\"script\");\n",
              "                newScript.onerror = reject;\n",
              "                newScript.onload = resolve;\n",
              "                document.body.appendChild(newScript);\n",
              "                newScript.src = url;\n",
              "            });\n",
              "            }\n",
              "            loadScript(\"https://cdn.jsdelivr.net/npm/postmate/build/postmate.min.js\").then(() => {\n",
              "            const iframe = document.createElement('iframe')\n",
              "            iframe.style.cssText = \"width:0;height:0;border:none\"\n",
              "            document.body.appendChild(iframe)\n",
              "            const handshake = new Postmate({\n",
              "                container: iframe,\n",
              "                url: 'https://wandb.ai/authorize'\n",
              "            });\n",
              "            const timeout = setTimeout(() => reject(\"Couldn't auto authenticate\"), 5000)\n",
              "            handshake.then(function(child) {\n",
              "                child.on('authorize', data => {\n",
              "                    clearTimeout(timeout)\n",
              "                    resolve(data)\n",
              "                });\n",
              "            });\n",
              "            })\n",
              "        });\n",
              "    "
            ]
          },
          "metadata": {}
        },
        {
          "output_type": "stream",
          "name": "stderr",
          "text": [
            "\u001b[34m\u001b[1mwandb\u001b[0m: Logging into wandb.ai. (Learn how to deploy a W&B server locally: https://wandb.me/wandb-server)\n",
            "\u001b[34m\u001b[1mwandb\u001b[0m: You can find your API key in your browser here: https://wandb.ai/authorize\n",
            "wandb: Paste an API key from your profile and hit enter, or press ctrl+c to quit:"
          ]
        },
        {
          "name": "stdout",
          "output_type": "stream",
          "text": [
            " ··········\n"
          ]
        },
        {
          "output_type": "stream",
          "name": "stderr",
          "text": [
            "\u001b[34m\u001b[1mwandb\u001b[0m: Appending key for api.wandb.ai to your netrc file: /root/.netrc\n"
          ]
        },
        {
          "output_type": "execute_result",
          "data": {
            "text/plain": [
              "True"
            ]
          },
          "metadata": {},
          "execution_count": 9
        }
      ]
    },
    {
      "cell_type": "markdown",
      "source": [
        "# Loading Dataset\n"
      ],
      "metadata": {
        "id": "XzxFyYxad71T"
      }
    },
    {
      "cell_type": "code",
      "source": [
        "from torchvision import transforms\n",
        "from torchvision.transforms import ToTensor, Normalize\n",
        "\n",
        "train_transforms = transforms.Compose([\n",
        "    transforms.RandomRotation(10),\n",
        "    transforms.RandomHorizontalFlip(),\n",
        "    transforms.ToTensor(),\n",
        "    transforms.Normalize((0.5,0.5,0.5), (0.5,0.5,0.5))\n",
        "])\n",
        "\n",
        "test_transforms = transforms.Compose([\n",
        "    transforms.ToTensor(),\n",
        "    transforms.Normalize((0.5,0.5,0.5), (0.5,0.5,0.5))\n",
        "])\n"
      ],
      "metadata": {
        "id": "xHh1pvf9eUFw"
      },
      "execution_count": 10,
      "outputs": []
    },
    {
      "cell_type": "code",
      "source": [
        "dataset_train = torchvision.datasets.CIFAR10('./data', download=True, train=True, transform=train_transforms)\n",
        "\n",
        "# Download and load the test set\n",
        "dataset_test = torchvision.datasets.CIFAR10('./data', download=True, train=False, transform=test_transforms)"
      ],
      "metadata": {
        "colab": {
          "base_uri": "https://localhost:8080/"
        },
        "outputId": "2bde15d6-c61a-40bc-df34-cede2163687e",
        "id": "ak2BBC1oQpb0"
      },
      "execution_count": 11,
      "outputs": [
        {
          "output_type": "stream",
          "name": "stdout",
          "text": [
            "Downloading https://www.cs.toronto.edu/~kriz/cifar-10-python.tar.gz to ./data/cifar-10-python.tar.gz\n"
          ]
        },
        {
          "output_type": "stream",
          "name": "stderr",
          "text": [
            "100%|██████████| 170498071/170498071 [00:03<00:00, 56564444.51it/s]\n"
          ]
        },
        {
          "output_type": "stream",
          "name": "stdout",
          "text": [
            "Extracting ./data/cifar-10-python.tar.gz to ./data\n",
            "Files already downloaded and verified\n"
          ]
        }
      ]
    },
    {
      "cell_type": "code",
      "source": [
        "trainset, valset = torch.utils.data.random_split(dataset_train, [40000, 10000])\n",
        "train_loader = torch.utils.data.DataLoader(trainset, batch_size=64, shuffle=True, num_workers=0)\n",
        "val_loader = torch.utils.data.DataLoader(valset, batch_size=64, shuffle=True, num_workers=0)\n",
        "test_loader = DataLoader(dataset_test, batch_size=64, shuffle=False)"
      ],
      "metadata": {
        "id": "H_0f-XwTQpb1"
      },
      "execution_count": 20,
      "outputs": []
    },
    {
      "cell_type": "markdown",
      "source": [
        "# set cuda to device"
      ],
      "metadata": {
        "id": "W9gpIza6eIME"
      }
    },
    {
      "cell_type": "code",
      "source": [
        "#torch.cuda.memory_summary(device=None, abbreviated=True)"
      ],
      "metadata": {
        "id": "i5xtz8_DZBq8"
      },
      "execution_count": 13,
      "outputs": []
    },
    {
      "cell_type": "code",
      "source": [
        "torch.cuda.empty_cache()"
      ],
      "metadata": {
        "id": "wHJbL98ZY5mg"
      },
      "execution_count": 14,
      "outputs": []
    },
    {
      "cell_type": "code",
      "source": [
        "device = torch.device('cuda' if torch.cuda.is_available() else 'cpu')\n",
        "print(device)"
      ],
      "metadata": {
        "colab": {
          "base_uri": "https://localhost:8080/"
        },
        "id": "CSi_tn2rOSKl",
        "outputId": "3e1a01f0-9563-4260-818c-a348146b8374"
      },
      "execution_count": 15,
      "outputs": [
        {
          "output_type": "stream",
          "name": "stdout",
          "text": [
            "cuda\n"
          ]
        }
      ]
    },
    {
      "cell_type": "markdown",
      "source": [
        "#Some key definitions"
      ],
      "metadata": {
        "id": "Nsyem3b0eQSr"
      }
    },
    {
      "cell_type": "markdown",
      "source": [
        "## Count of correct predictions"
      ],
      "metadata": {
        "id": "8ozaaWJ7eXmb"
      }
    },
    {
      "cell_type": "code",
      "source": [
        "def log_test_predictions(images, labels, outputs, predicted, test_table, log_counter):\n",
        "  # obtain confidence scores for all classes\n",
        "  scores = F.softmax(outputs.data, dim=1)\n",
        "  log_scores = scores.cpu().numpy()\n",
        "  log_images = images.cpu().numpy()\n",
        "  log_labels = labels.cpu().numpy()\n",
        "  log_preds = predicted.cpu().numpy()\n",
        "  # adding ids based on the order of the images\n",
        "  _id = 0\n",
        "  for i, l, p, s in zip(log_images, log_labels, log_preds, log_scores):\n",
        "    # add required info to data table:\n",
        "    # id, image pixels, model's guess, true label, scores for all classes\n",
        "    img_id = str(_id) + \"_\" + str(log_counter)\n",
        "    test_table.add_data(img_id, wandb.Image(np.transpose(i, (1, 2, 0))), p, l, *s)\n",
        "    _id += 1\n",
        "    if _id == NUM_IMAGES_PER_BATCH:\n",
        "      break\n"
      ],
      "metadata": {
        "id": "87NTgyACpIDd"
      },
      "execution_count": 16,
      "outputs": []
    },
    {
      "cell_type": "code",
      "metadata": {
        "id": "cOe6m7forHCM"
      },
      "source": [
        "def get_num_correct(preds, labels):\n",
        "  return preds.argmax(dim=1).eq(labels).sum().item()"
      ],
      "execution_count": 17,
      "outputs": []
    },
    {
      "cell_type": "code",
      "source": [
        "def get_topk_correct(preds,labels,k=5):\n",
        "    batch_size = preds.shape[0]\n",
        "\n",
        "    # get the top-5 predictions for each sample\n",
        "    topk_values, topk_indices = torch.topk(preds, k=5, dim=1)\n",
        "\n",
        "    # check if the target is in the top-5 predictions\n",
        "    correct_topk = topk_indices.eq(labels.view(-1, 1).expand_as(topk_indices))\n",
        "    return correct_topk\n",
        "## calculate top-5 accuracy\n",
        "#top5_accuracy = correct_topk.float().sum() / batch_size"
      ],
      "metadata": {
        "id": "t6YaB1HBJkyu"
      },
      "execution_count": 18,
      "outputs": []
    },
    {
      "cell_type": "markdown",
      "source": [
        "## taking value of parameters and trying them in all combinations"
      ],
      "metadata": {
        "id": "jv8d5oYGecI4"
      }
    },
    {
      "cell_type": "code",
      "metadata": {
        "id": "mBOxsN4A7N8K"
      },
      "source": [
        "# import modules to build RunBuilder and RunManager helper classes\n",
        "from collections  import OrderedDict\n",
        "from collections import namedtuple\n",
        "from itertools import product\n",
        "\n",
        "# Read in the hyper-parameters and return a Run namedtuple containing all the \n",
        "# combinations of hyper-parameters\n",
        "class RunBuilder():\n",
        "  @staticmethod\n",
        "  def get_runs(params):\n",
        "\n",
        "    Run = namedtuple('Run', params.keys())\n",
        "\n",
        "    runs = []\n",
        "    for v in product(*params.values()):\n",
        "      runs.append(Run(*v))\n",
        "    \n",
        "    return runs"
      ],
      "execution_count": 19,
      "outputs": []
    },
    {
      "cell_type": "markdown",
      "source": [
        "## defining Manager class "
      ],
      "metadata": {
        "id": "Zyi8muZXeiMl"
      }
    },
    {
      "cell_type": "markdown",
      "source": [
        "This helps in calculating both train and validation accuracy and losses also help us to maintain a tensorboard and print all the data collected for every epoch and save it in a dataset "
      ],
      "metadata": {
        "id": "DVo1Jq-ge0Oa"
      }
    },
    {
      "cell_type": "code",
      "metadata": {
        "id": "HSddFGL7zisa"
      },
      "source": [
        "# Helper class, help track loss, accuracy, epoch time, run time, \n",
        "# hyper-parameters etc. Also record to TensorBoard and write into csv, json\n",
        "class RunManager():\n",
        "  def __init__(self):\n",
        "\n",
        "    # tracking every epoch count, loss, accuracy, time\n",
        "    self.epoch_count = 0\n",
        "    self.epoch_loss = 0\n",
        "    self.epoch_val_loss = 0\n",
        "    self.epoch_num_correct_train = 0\n",
        "    self.epoch_num_correct_test = 0\n",
        "    self.epoch_start_time = None\n",
        "\n",
        "    # tracking every run count, run data, hyper-params used, time\n",
        "    self.run_params = None\n",
        "    self.run_count = 0\n",
        "    self.run_data = []\n",
        "    self.run_start_time = None\n",
        "\n",
        "    # record model, loader and TensorBoard \n",
        "    self.network = None\n",
        "    self.trainloader = None\n",
        "    self.valloader = None\n",
        "    self.tb = None\n",
        "\n",
        "  # record the count, hyper-param, model, loader of each run\n",
        "  # record sample images and network graph to TensorBoard  \n",
        "  def begin_run(self, run, network, trainloader,valloader):\n",
        "\n",
        "    self.run_start_time = time.time()\n",
        "\n",
        "    self.run_params = run\n",
        "    self.run_count += 1\n",
        "\n",
        "    self.network = network\n",
        "    self.trainloader = trainloader\n",
        "    self.valloader = valloader\n",
        "    self.tb = SummaryWriter(comment=f'-{run}')\n",
        "\n",
        "    wandb.init(\n",
        "        # set the wandb project where this run will be logged\n",
        "        project=\"dl_project_2023\",\n",
        "        \n",
        "        # track hyperparameters and run metadata\n",
        "        config={\n",
        "        \"learning_rate\": run.lr,\n",
        "        \"architecture\": run.arch,\n",
        "        \"dataset\": run.dataset,\n",
        "        \"epochs\": 30,\n",
        "        \"activation_function\":run.act_func,\n",
        "        \"Optimizer\":run.opt,\n",
        "        \"Regularisation\":run.reg\n",
        "        }\n",
        "    )\n",
        "    #images, labels = next(iter(self.trainloader))\n",
        "    #images, labels = images.to(device), labels.to(device)\n",
        "    #grid = torchvision.utils.make_grid(images)\n",
        "\n",
        "    #self.tb.add_image('images', grid)\n",
        "    #self.tb.add_graph(self.network, images)\n",
        "\n",
        "  # when run ends, close TensorBoard, zero epoch count\n",
        "  def end_run(self):\n",
        "    wandb.finish()\n",
        "    self.tb.close()\n",
        "    self.epoch_count = 0\n",
        "\n",
        "  # zero epoch count, loss, accuracy, \n",
        "  def begin_epoch(self):\n",
        "    self.epoch_start_time = time.time()\n",
        "\n",
        "    self.epoch_count += 1\n",
        "    self.epoch_loss = 0\n",
        "    self.epoch_val_loss = 0\n",
        "    self.epoch_num_correct_train = 0\n",
        "    self.epoch_num_correct_test = 0\n",
        "    print(\"Training Epoch\",self.epoch_count)\n",
        "\n",
        "  # \n",
        "  def end_epoch(self):\n",
        "    # calculate epoch duration and run duration(accumulate)\n",
        "    epoch_duration = time.time() - self.epoch_start_time\n",
        "    run_duration = time.time() - self.run_start_time\n",
        "\n",
        "    # record epoch loss and accuracy\n",
        "    train_loss = self.epoch_loss / len(self.trainloader.dataset)\n",
        "    val_loss = self.epoch_val_loss / len(self.valloader.dataset)\n",
        "    train_accuracy = self.epoch_num_correct_train / len(self.trainloader.dataset)\n",
        "    test_accuracy = self.epoch_num_correct_test / len(self.valloader.dataset)\n",
        "    # Record epoch loss and accuracy to TensorBoard \n",
        "    self.tb.add_scalar('Train Loss', train_loss, self.epoch_count)\n",
        "    self.tb.add_scalar('train Accuracy', train_accuracy, self.epoch_count)\n",
        "    self.tb.add_scalar('Validation Loss', val_loss, self.epoch_count)\n",
        "    self.tb.add_scalar('Validation Accuracy', test_accuracy, self.epoch_count)\n",
        "\n",
        "    # Record params to TensorBoard\n",
        "    #for name, param in self.network.named_parameters():\n",
        "      #self.tb.add_histogram(name, param, self.epoch_count)\n",
        "      #self.tb.add_histogram(f'{name}.grad', param.grad, self.epoch_count)\n",
        "    \n",
        "    # Write into 'results' (OrderedDict) for all run related data\n",
        "    results = OrderedDict()\n",
        "    results[\"run\"] = self.run_count\n",
        "    results[\"epoch\"] = self.epoch_count\n",
        "    results[\"train_loss\"] = train_loss\n",
        "    results[\"val_loss\"] = val_loss\n",
        "    results[\"train_accuracy\"] = train_accuracy\n",
        "    results[\"val_accuracy\"] = test_accuracy\n",
        "    results[\"epoch duration\"] = epoch_duration\n",
        "    results[\"run duration\"] = run_duration\n",
        "    print(\"train_acc = \", train_accuracy, \"train_loss = \", train_loss, \"Validation_acc = \", test_accuracy, \"Validation_loss = \", val_loss)\n",
        "    wandb.log({\"train_acc\": train_accuracy, \"train_loss\": train_loss, \"Validation_acc\": test_accuracy, \"Validation_loss\": val_loss})\n",
        "    \n",
        "    # Record hyper-params into 'results'\n",
        "    for k,v in self.run_params._asdict().items(): results[k] = v\n",
        "    self.run_data.append(results)\n",
        "    df = pd.DataFrame.from_dict(self.run_data, orient = 'columns')\n",
        "\n",
        "    # display epoch information and show progress\n",
        "    # clear_output(wait=True)\n",
        "    # display(df)\n",
        "\n",
        "  # accumulate loss of batch into entire epoch loss\n",
        "  def track_loss(self, loss):\n",
        "    # multiply batch size so variety of batch sizes can be compared\n",
        "    self.epoch_loss += loss.item() * self.trainloader.batch_size\n",
        "  def track_val_loss(self, loss):\n",
        "    # multiply batch size so variety of batch sizes can be compared\n",
        "    self.epoch_val_loss += loss.item() * self.valloader.batch_size\n",
        "  # accumulate number of corrects of batch into entire epoch num_correct\n",
        "  def track_num_correct_train(self, preds, labels):\n",
        "    self.epoch_num_correct_train += self._get_num_correct(preds, labels)\n",
        "  def track_num_correct_test(self, preds, labels):\n",
        "    self.epoch_num_correct_test += self._get_num_correct(preds, labels)\n",
        "  @torch.no_grad()\n",
        "  def _get_num_correct(self, preds, labels):\n",
        "    return preds.argmax(dim=1).eq(labels).sum().item()\n",
        "  \n",
        "  # save end results of all runs into csv, json for further a\n",
        "  def save(self, fileName):\n",
        "\n",
        "    pd.DataFrame.from_dict(\n",
        "        self.run_data, \n",
        "        orient = 'columns',\n",
        "    ).to_csv(f'{fileName}.csv')\n",
        "\n",
        "    with open(f'{fileName}.json', 'w', encoding='utf-8') as f:\n",
        "      json.dump(self.run_data, f, ensure_ascii=False, indent=4)"
      ],
      "execution_count": 34,
      "outputs": []
    },
    {
      "cell_type": "markdown",
      "source": [
        "# Defining Shake Drop Regularisation\n"
      ],
      "metadata": {
        "id": "74WW3tEuOpjZ"
      }
    },
    {
      "cell_type": "code",
      "execution_count": 22,
      "metadata": {
        "id": "cl7bmnHfA8H8"
      },
      "outputs": [],
      "source": [
        "class ShakeDropFunction(torch.autograd.Function):\n",
        "\n",
        "    @staticmethod\n",
        "    def forward(ctx, x, training=True, p_drop=0.5, alpha_range=[-1, 1]):\n",
        "        if training:\n",
        "            gate = torch.cuda.FloatTensor([0]).bernoulli_(1 - p_drop)\n",
        "            ctx.save_for_backward(gate)\n",
        "            if gate.item() == 0:\n",
        "                alpha = torch.cuda.FloatTensor(x.size(0)).uniform_(*alpha_range)\n",
        "                alpha = alpha.view(alpha.size(0), 1, 1, 1).expand_as(x)\n",
        "                return alpha * x\n",
        "            else:\n",
        "                return x\n",
        "        else:\n",
        "            return (1 - p_drop) * x\n",
        "\n",
        "    @staticmethod\n",
        "    def backward(ctx, grad_output):\n",
        "        gate = ctx.saved_tensors[0]\n",
        "        if gate.item() == 0:\n",
        "            beta = torch.cuda.FloatTensor(grad_output.size(0)).uniform_(0, 1)\n",
        "            beta = beta.view(beta.size(0), 1, 1, 1).expand_as(grad_output)\n",
        "            beta = Variable(beta)\n",
        "            return beta * grad_output, None, None, None\n",
        "        else:\n",
        "            return grad_output, None, None, None\n",
        "\n",
        "\n",
        "class ShakeDrop(nn.Module):\n",
        "\n",
        "    def __init__(self, p_drop=0.5, alpha_range=[-1, 1]):\n",
        "        super(ShakeDrop, self).__init__()\n",
        "        self.p_drop = p_drop\n",
        "        self.alpha_range = alpha_range\n",
        "\n",
        "    def forward(self, x):\n",
        "        return ShakeDropFunction.apply(x, self.training, self.p_drop, self.alpha_range)"
      ]
    },
    {
      "cell_type": "markdown",
      "source": [
        "# Building Network as per given Instructions"
      ],
      "metadata": {
        "id": "I7DYL7SCeMWE"
      }
    },
    {
      "cell_type": "code",
      "source": [
        "def define_model(reg):\n",
        "    model = torch.hub.load('pytorch/vision:v0.10.0', 'resnet18', pretrained=False)\n",
        "    # model.conv1 = nn.Conv2d(1, 64, kernel_size=7, stride=2, padding=3, bias=False)\n",
        "    model.fc = nn.Linear(512, 10)\n",
        "    if reg == 'shake-drop':\n",
        "        # model.relu = nn.Sequential(ShakeDrop(0.5),\n",
        "        #                             nn.ReLU())\n",
        "        # print(model.relu)\n",
        "        model.layer1[0].conv1 = nn.Sequential(nn.Conv2d(64, 64, kernel_size=(3, 3), stride=(1, 1), padding=(1, 1), bias=False),\n",
        "                                            ShakeDrop(0.2))\n",
        "        model.layer2[0].conv1 = nn.Sequential(nn.Conv2d(64, 128, kernel_size=(3, 3), stride=(2, 2), padding=(1, 1), bias=False),\n",
        "                                            ShakeDrop(0.2))\n",
        "        model.layer3[0].conv1 = nn.Sequential(nn.Conv2d(128, 256, kernel_size=(3, 3), stride=(2, 2), padding=(1, 1), bias=False),\n",
        "                                            ShakeDrop(0.2))\n",
        "        model.layer4[0].conv1 = nn.Sequential(nn.Conv2d(256, 512, kernel_size=(3, 3), stride=(2, 2), padding=(1, 1), bias=False),\n",
        "                                            ShakeDrop(0.2))\n",
        "        return model\n",
        "    elif reg == 'dropout':\n",
        "        # model.relu = nn.Sequential(nn.Dropout(p=0.2),\n",
        "        #                             nn.ReLU())\n",
        "        # print(model.relu)\n",
        "        model.layer1[0].conv1 = nn.Sequential(nn.Conv2d(64, 64, kernel_size=(3, 3), stride=(1, 1), padding=(1, 1), bias=False),\n",
        "                                            nn.Dropout(p=0.2))\n",
        "        model.layer2[0].conv1 = nn.Sequential(nn.Conv2d(64, 128, kernel_size=(3, 3), stride=(2, 2), padding=(1, 1), bias=False),\n",
        "                                            nn.Dropout(p=0.2))\n",
        "        model.layer3[0].conv1 = nn.Sequential(nn.Conv2d(128, 256, kernel_size=(3, 3), stride=(2, 2), padding=(1, 1), bias=False),\n",
        "                                            nn.Dropout(p=0.2))\n",
        "        model.layer4[0].conv1 = nn.Sequential(nn.Conv2d(256, 512, kernel_size=(3, 3), stride=(2, 2), padding=(1, 1), bias=False),\n",
        "                                            nn.Dropout(p=0.2))\n",
        "        return model\n",
        "    else:\n",
        "        return model"
      ],
      "metadata": {
        "id": "PJgnbwgeCgHG"
      },
      "execution_count": 24,
      "outputs": []
    },
    {
      "cell_type": "code",
      "source": [
        "model = define_model('shake-drop').to(device)\n",
        "summary(model, ( 3, 32, 32))"
      ],
      "metadata": {
        "colab": {
          "base_uri": "https://localhost:8080/"
        },
        "id": "00Q71Z5rPcVh",
        "outputId": "82947477-98ab-436a-dc28-8edf7c8e29c4"
      },
      "execution_count": 27,
      "outputs": [
        {
          "output_type": "stream",
          "name": "stderr",
          "text": [
            "Using cache found in /root/.cache/torch/hub/pytorch_vision_v0.10.0\n",
            "/usr/local/lib/python3.10/dist-packages/torchvision/models/_utils.py:208: UserWarning: The parameter 'pretrained' is deprecated since 0.13 and may be removed in the future, please use 'weights' instead.\n",
            "  warnings.warn(\n",
            "/usr/local/lib/python3.10/dist-packages/torchvision/models/_utils.py:223: UserWarning: Arguments other than a weight enum or `None` for 'weights' are deprecated since 0.13 and may be removed in the future. The current behavior is equivalent to passing `weights=None`.\n",
            "  warnings.warn(msg)\n"
          ]
        },
        {
          "output_type": "stream",
          "name": "stdout",
          "text": [
            "----------------------------------------------------------------\n",
            "        Layer (type)               Output Shape         Param #\n",
            "================================================================\n",
            "            Conv2d-1           [-1, 64, 16, 16]           9,408\n",
            "       BatchNorm2d-2           [-1, 64, 16, 16]             128\n",
            "              ReLU-3           [-1, 64, 16, 16]               0\n",
            "         MaxPool2d-4             [-1, 64, 8, 8]               0\n",
            "            Conv2d-5             [-1, 64, 8, 8]          36,864\n",
            "         ShakeDrop-6             [-1, 64, 8, 8]               0\n",
            "       BatchNorm2d-7             [-1, 64, 8, 8]             128\n",
            "              ReLU-8             [-1, 64, 8, 8]               0\n",
            "            Conv2d-9             [-1, 64, 8, 8]          36,864\n",
            "      BatchNorm2d-10             [-1, 64, 8, 8]             128\n",
            "             ReLU-11             [-1, 64, 8, 8]               0\n",
            "       BasicBlock-12             [-1, 64, 8, 8]               0\n",
            "           Conv2d-13             [-1, 64, 8, 8]          36,864\n",
            "      BatchNorm2d-14             [-1, 64, 8, 8]             128\n",
            "             ReLU-15             [-1, 64, 8, 8]               0\n",
            "           Conv2d-16             [-1, 64, 8, 8]          36,864\n",
            "      BatchNorm2d-17             [-1, 64, 8, 8]             128\n",
            "             ReLU-18             [-1, 64, 8, 8]               0\n",
            "       BasicBlock-19             [-1, 64, 8, 8]               0\n",
            "           Conv2d-20            [-1, 128, 4, 4]          73,728\n",
            "        ShakeDrop-21            [-1, 128, 4, 4]               0\n",
            "      BatchNorm2d-22            [-1, 128, 4, 4]             256\n",
            "             ReLU-23            [-1, 128, 4, 4]               0\n",
            "           Conv2d-24            [-1, 128, 4, 4]         147,456\n",
            "      BatchNorm2d-25            [-1, 128, 4, 4]             256\n",
            "           Conv2d-26            [-1, 128, 4, 4]           8,192\n",
            "      BatchNorm2d-27            [-1, 128, 4, 4]             256\n",
            "             ReLU-28            [-1, 128, 4, 4]               0\n",
            "       BasicBlock-29            [-1, 128, 4, 4]               0\n",
            "           Conv2d-30            [-1, 128, 4, 4]         147,456\n",
            "      BatchNorm2d-31            [-1, 128, 4, 4]             256\n",
            "             ReLU-32            [-1, 128, 4, 4]               0\n",
            "           Conv2d-33            [-1, 128, 4, 4]         147,456\n",
            "      BatchNorm2d-34            [-1, 128, 4, 4]             256\n",
            "             ReLU-35            [-1, 128, 4, 4]               0\n",
            "       BasicBlock-36            [-1, 128, 4, 4]               0\n",
            "           Conv2d-37            [-1, 256, 2, 2]         294,912\n",
            "        ShakeDrop-38            [-1, 256, 2, 2]               0\n",
            "      BatchNorm2d-39            [-1, 256, 2, 2]             512\n",
            "             ReLU-40            [-1, 256, 2, 2]               0\n",
            "           Conv2d-41            [-1, 256, 2, 2]         589,824\n",
            "      BatchNorm2d-42            [-1, 256, 2, 2]             512\n",
            "           Conv2d-43            [-1, 256, 2, 2]          32,768\n",
            "      BatchNorm2d-44            [-1, 256, 2, 2]             512\n",
            "             ReLU-45            [-1, 256, 2, 2]               0\n",
            "       BasicBlock-46            [-1, 256, 2, 2]               0\n",
            "           Conv2d-47            [-1, 256, 2, 2]         589,824\n",
            "      BatchNorm2d-48            [-1, 256, 2, 2]             512\n",
            "             ReLU-49            [-1, 256, 2, 2]               0\n",
            "           Conv2d-50            [-1, 256, 2, 2]         589,824\n",
            "      BatchNorm2d-51            [-1, 256, 2, 2]             512\n",
            "             ReLU-52            [-1, 256, 2, 2]               0\n",
            "       BasicBlock-53            [-1, 256, 2, 2]               0\n",
            "           Conv2d-54            [-1, 512, 1, 1]       1,179,648\n",
            "        ShakeDrop-55            [-1, 512, 1, 1]               0\n",
            "      BatchNorm2d-56            [-1, 512, 1, 1]           1,024\n",
            "             ReLU-57            [-1, 512, 1, 1]               0\n",
            "           Conv2d-58            [-1, 512, 1, 1]       2,359,296\n",
            "      BatchNorm2d-59            [-1, 512, 1, 1]           1,024\n",
            "           Conv2d-60            [-1, 512, 1, 1]         131,072\n",
            "      BatchNorm2d-61            [-1, 512, 1, 1]           1,024\n",
            "             ReLU-62            [-1, 512, 1, 1]               0\n",
            "       BasicBlock-63            [-1, 512, 1, 1]               0\n",
            "           Conv2d-64            [-1, 512, 1, 1]       2,359,296\n",
            "      BatchNorm2d-65            [-1, 512, 1, 1]           1,024\n",
            "             ReLU-66            [-1, 512, 1, 1]               0\n",
            "           Conv2d-67            [-1, 512, 1, 1]       2,359,296\n",
            "      BatchNorm2d-68            [-1, 512, 1, 1]           1,024\n",
            "             ReLU-69            [-1, 512, 1, 1]               0\n",
            "       BasicBlock-70            [-1, 512, 1, 1]               0\n",
            "AdaptiveAvgPool2d-71            [-1, 512, 1, 1]               0\n",
            "           Linear-72                   [-1, 10]           5,130\n",
            "================================================================\n",
            "Total params: 11,181,642\n",
            "Trainable params: 11,181,642\n",
            "Non-trainable params: 0\n",
            "----------------------------------------------------------------\n",
            "Input size (MB): 0.01\n",
            "Forward/backward pass size (MB): 1.34\n",
            "Params size (MB): 42.65\n",
            "Estimated Total Size (MB): 44.01\n",
            "----------------------------------------------------------------\n"
          ]
        }
      ]
    },
    {
      "cell_type": "markdown",
      "source": [
        "# Training the Model"
      ],
      "metadata": {
        "id": "HNT7QPmNfd2z"
      }
    },
    {
      "cell_type": "markdown",
      "source": [
        "we write the code to train our network "
      ],
      "metadata": {
        "id": "ekXuEGamfe87"
      }
    },
    {
      "cell_type": "code",
      "source": [
        "params = OrderedDict(\n",
        "    lr = [.001],\n",
        "    batch_size = [64],\n",
        "    shuffle = [True],\n",
        "    arch = [\"Resnet18\"],\n",
        "    dataset = [\"Cifar10\"],\n",
        "    act_func = [\"ReLU\"],\n",
        "    opt = [\"ADAM\"],\n",
        "    reg = ['shake-drop','dropout','no_reg']\n",
        "\n",
        ")\n",
        "epochs = 30\n",
        "# Number of batches to log from the test data for each test step\n",
        "# (default set low to simplify demo)\n",
        "NUM_BATCHES_TO_LOG = 10 #79\n",
        "\n",
        "# Number of images to log per test batch\n",
        "# (default set low to simplify demo)\n",
        "NUM_IMAGES_PER_BATCH = 32 #128"
      ],
      "metadata": {
        "id": "c9FQtRiQ1bfW"
      },
      "execution_count": 32,
      "outputs": []
    },
    {
      "cell_type": "code",
      "metadata": {
        "id": "gu0NpJOz1bfW",
        "colab": {
          "base_uri": "https://localhost:8080/",
          "height": 1000,
          "referenced_widgets": [
            "3495cb3c94fc4b4c819b010157cdd7ba",
            "5685dfc59b954bbda049c33ee3f80553",
            "7eb98f8f59e24b3f972f53ae6f6853ff",
            "526ef438c7b94b42bedbdd307db788cc",
            "160ebb99050843baa915bd25aee0744c",
            "01c3ebba4ca04b3e95427d696014f5ce",
            "476a035a6aee4a0dbf92f6658591f410",
            "7b736400e07b40619bea05ed5d7dd2f7"
          ]
        },
        "outputId": "fdce793f-d80a-48be-baf9-37e0f782fdac"
      },
      "source": [
        "m = RunManager()\n",
        "\n",
        "\n",
        "\n",
        "for run in RunBuilder.get_runs(params):\n",
        "    \n",
        "    model = define_model(run.reg)\n",
        "    model = model.to(device)\n",
        "    \n",
        "    if run.act_func == \"Tanh\":\n",
        "        model.relu = nn.Tanh()\n",
        "    \n",
        "    if run.opt == \"ADAM\":\n",
        "        optimizer = optim.Adam(model.parameters(), lr=run.lr)\n",
        "    elif run.opt == \"SGD\":\n",
        "        optimizer = optim.SGD(model.parameters(), lr=run.lr)\n",
        "    \n",
        "    m.begin_run(run, model, train_loader,val_loader)\n",
        "    for epoch in range(epochs):\n",
        "        \n",
        "        m.begin_epoch()\n",
        "        batch_count = 0\n",
        "        for batch in tqdm(train_loader):\n",
        "            images = batch[0]\n",
        "            labels = batch[1]\n",
        "            images, labels = images.to(device), labels.to(device)\n",
        "            preds = model(images)\n",
        "            loss = F.cross_entropy(preds, labels)\n",
        "\n",
        "            optimizer.zero_grad()\n",
        "            loss.backward()\n",
        "            optimizer.step()\n",
        "\n",
        "            m.track_loss(loss)\n",
        "            m.track_num_correct_train(preds, labels)\n",
        "        for batch in tqdm(val_loader):\n",
        "        \n",
        "            images = batch[0]\n",
        "            labels = batch[1]\n",
        "            images, labels = images.to(device), labels.to(device)\n",
        "            preds = model(images)\n",
        "            loss = F.cross_entropy(preds, labels)\n",
        "            m.track_val_loss(loss)\n",
        "            m.track_num_correct_test(preds, labels)\n",
        "        \n",
        "        m.end_epoch()\n",
        "    columns=[\"id\", \"image\", \"guess\", \"truth\"]\n",
        "    for digit in range(10):\n",
        "      columns.append(\"score_\" + str(digit))\n",
        "    test_table = wandb.Table(columns=columns)\n",
        "    log_counter = 0\n",
        "    sum = 0\n",
        "    for batch in test_loader:\n",
        "            \n",
        "        images = batch[0]\n",
        "        labels = batch[1]\n",
        "        images, labels = images.to(device), labels.to(device)\n",
        "        preds = model(images)\n",
        "        _, predicted = torch.max(preds.data, 1)\n",
        "        #loss = F.cross_entropy(preds, labels)\n",
        "\n",
        "        #optimizer.zero_grad()\n",
        "        #loss.backward()\n",
        "        #optimizer.step()\n",
        "        if log_counter < NUM_BATCHES_TO_LOG:\n",
        "            log_test_predictions(images, labels, preds, predicted, test_table, log_counter)\n",
        "            log_counter += 1\n",
        "        #m.track_val_loss(loss)\n",
        "        sum += get_num_correct(preds, labels)\n",
        "    print('Test Accuracy is ',sum/len(test_loader.dataset))\n",
        "    wandb.log({\"test_predictions\" : test_table})\n",
        "    m.end_run()\n",
        "\n",
        "# when all runs are done, save results to files\n",
        "m.save('results_resnet_18')"
      ],
      "execution_count": 35,
      "outputs": [
        {
          "output_type": "stream",
          "name": "stderr",
          "text": [
            "Using cache found in /root/.cache/torch/hub/pytorch_vision_v0.10.0\n",
            "/usr/local/lib/python3.10/dist-packages/torchvision/models/_utils.py:208: UserWarning: The parameter 'pretrained' is deprecated since 0.13 and may be removed in the future, please use 'weights' instead.\n",
            "  warnings.warn(\n",
            "/usr/local/lib/python3.10/dist-packages/torchvision/models/_utils.py:223: UserWarning: Arguments other than a weight enum or `None` for 'weights' are deprecated since 0.13 and may be removed in the future. The current behavior is equivalent to passing `weights=None`.\n",
            "  warnings.warn(msg)\n"
          ]
        },
        {
          "output_type": "display_data",
          "data": {
            "text/plain": [
              "<IPython.core.display.HTML object>"
            ],
            "text/html": [
              "Finishing last run (ID:8o5c24k4) before initializing another..."
            ]
          },
          "metadata": {}
        },
        {
          "output_type": "display_data",
          "data": {
            "text/plain": [
              "<IPython.core.display.HTML object>"
            ],
            "text/html": [
              "Waiting for W&B process to finish... <strong style=\"color:green\">(success).</strong>"
            ]
          },
          "metadata": {}
        },
        {
          "output_type": "display_data",
          "data": {
            "text/plain": [
              "VBox(children=(Label(value='0.001 MB of 0.001 MB uploaded (0.000 MB deduped)\\r'), FloatProgress(value=1.0, max…"
            ],
            "application/vnd.jupyter.widget-view+json": {
              "version_major": 2,
              "version_minor": 0,
              "model_id": "3495cb3c94fc4b4c819b010157cdd7ba"
            }
          },
          "metadata": {}
        },
        {
          "output_type": "display_data",
          "data": {
            "text/plain": [
              "<IPython.core.display.HTML object>"
            ],
            "text/html": [
              "<style>\n",
              "    table.wandb td:nth-child(1) { padding: 0 10px; text-align: left ; width: auto;} td:nth-child(2) {text-align: left ; width: 100%}\n",
              "    .wandb-row { display: flex; flex-direction: row; flex-wrap: wrap; justify-content: flex-start; width: 100% }\n",
              "    .wandb-col { display: flex; flex-direction: column; flex-basis: 100%; flex: 1; padding: 10px; }\n",
              "    </style>\n",
              "<div class=\"wandb-row\"><div class=\"wandb-col\"><h3>Run history:</h3><br/><table class=\"wandb\"><tr><td>Validation_acc</td><td>▁▅▆██</td></tr><tr><td>Validation_loss</td><td>█▅▄▁▁</td></tr><tr><td>train_acc</td><td>▁▄▆▇█</td></tr><tr><td>train_loss</td><td>█▅▃▂▁</td></tr></table><br/></div><div class=\"wandb-col\"><h3>Run summary:</h3><br/><table class=\"wandb\"><tr><td>Validation_acc</td><td>0.6644</td></tr><tr><td>Validation_loss</td><td>0.94792</td></tr><tr><td>train_acc</td><td>0.68815</td></tr><tr><td>train_loss</td><td>0.89499</td></tr></table><br/></div></div>"
            ]
          },
          "metadata": {}
        },
        {
          "output_type": "display_data",
          "data": {
            "text/plain": [
              "<IPython.core.display.HTML object>"
            ],
            "text/html": [
              " View run <strong style=\"color:#cdcd00\">vague-gorge-3</strong> at: <a href='https://wandb.ai/dl-codes/dl_project_2023/runs/8o5c24k4' target=\"_blank\">https://wandb.ai/dl-codes/dl_project_2023/runs/8o5c24k4</a><br/>Synced 5 W&B file(s), 0 media file(s), 0 artifact file(s) and 0 other file(s)"
            ]
          },
          "metadata": {}
        },
        {
          "output_type": "display_data",
          "data": {
            "text/plain": [
              "<IPython.core.display.HTML object>"
            ],
            "text/html": [
              "Find logs at: <code>./wandb/run-20230509_213409-8o5c24k4/logs</code>"
            ]
          },
          "metadata": {}
        },
        {
          "output_type": "display_data",
          "data": {
            "text/plain": [
              "<IPython.core.display.HTML object>"
            ],
            "text/html": [
              "Successfully finished last run (ID:8o5c24k4). Initializing new run:<br/>"
            ]
          },
          "metadata": {}
        },
        {
          "output_type": "display_data",
          "data": {
            "text/plain": [
              "<IPython.core.display.HTML object>"
            ],
            "text/html": [
              "Tracking run with wandb version 0.15.2"
            ]
          },
          "metadata": {}
        },
        {
          "output_type": "display_data",
          "data": {
            "text/plain": [
              "<IPython.core.display.HTML object>"
            ],
            "text/html": [
              "Run data is saved locally in <code>/content/wandb/run-20230509_213849-tn0y1af2</code>"
            ]
          },
          "metadata": {}
        },
        {
          "output_type": "display_data",
          "data": {
            "text/plain": [
              "<IPython.core.display.HTML object>"
            ],
            "text/html": [
              "Syncing run <strong><a href='https://wandb.ai/dl-codes/dl_project_2023/runs/tn0y1af2' target=\"_blank\">silvery-monkey-4</a></strong> to <a href='https://wandb.ai/dl-codes/dl_project_2023' target=\"_blank\">Weights & Biases</a> (<a href='https://wandb.me/run' target=\"_blank\">docs</a>)<br/>"
            ]
          },
          "metadata": {}
        },
        {
          "output_type": "display_data",
          "data": {
            "text/plain": [
              "<IPython.core.display.HTML object>"
            ],
            "text/html": [
              " View project at <a href='https://wandb.ai/dl-codes/dl_project_2023' target=\"_blank\">https://wandb.ai/dl-codes/dl_project_2023</a>"
            ]
          },
          "metadata": {}
        },
        {
          "output_type": "display_data",
          "data": {
            "text/plain": [
              "<IPython.core.display.HTML object>"
            ],
            "text/html": [
              " View run at <a href='https://wandb.ai/dl-codes/dl_project_2023/runs/tn0y1af2' target=\"_blank\">https://wandb.ai/dl-codes/dl_project_2023/runs/tn0y1af2</a>"
            ]
          },
          "metadata": {}
        },
        {
          "output_type": "stream",
          "name": "stdout",
          "text": [
            "Training Epoch 1\n"
          ]
        },
        {
          "output_type": "stream",
          "name": "stderr",
          "text": [
            "100%|██████████| 625/625 [00:34<00:00, 17.98it/s]\n",
            "100%|██████████| 157/157 [00:06<00:00, 25.02it/s]\n"
          ]
        },
        {
          "output_type": "stream",
          "name": "stdout",
          "text": [
            "train_acc =  0.42025 train_loss =  1.592890866470337 Validation_acc =  0.4957 Validation_loss =  1.4101313358306884\n",
            "Training Epoch 2\n"
          ]
        },
        {
          "output_type": "stream",
          "name": "stderr",
          "text": [
            "100%|██████████| 625/625 [00:34<00:00, 18.06it/s]\n",
            "100%|██████████| 157/157 [00:06<00:00, 25.33it/s]\n"
          ]
        },
        {
          "output_type": "stream",
          "name": "stdout",
          "text": [
            "train_acc =  0.557625 train_loss =  1.2480495180130005 Validation_acc =  0.5788 Validation_loss =  1.2021313102722169\n",
            "Training Epoch 3\n"
          ]
        },
        {
          "output_type": "stream",
          "name": "stderr",
          "text": [
            "100%|██████████| 625/625 [00:35<00:00, 17.85it/s]\n",
            "100%|██████████| 157/157 [00:05<00:00, 26.84it/s]\n"
          ]
        },
        {
          "output_type": "stream",
          "name": "stdout",
          "text": [
            "train_acc =  0.618225 train_loss =  1.087598321533203 Validation_acc =  0.627 Validation_loss =  1.0763485900878906\n",
            "Training Epoch 4\n"
          ]
        },
        {
          "output_type": "stream",
          "name": "stderr",
          "text": [
            "100%|██████████| 625/625 [00:34<00:00, 17.90it/s]\n",
            "100%|██████████| 157/157 [00:05<00:00, 27.98it/s]\n"
          ]
        },
        {
          "output_type": "stream",
          "name": "stdout",
          "text": [
            "train_acc =  0.656625 train_loss =  0.9761992328643799 Validation_acc =  0.6533 Validation_loss =  0.9953812065124512\n",
            "Training Epoch 5\n"
          ]
        },
        {
          "output_type": "stream",
          "name": "stderr",
          "text": [
            "100%|██████████| 625/625 [00:35<00:00, 17.68it/s]\n",
            "100%|██████████| 157/157 [00:05<00:00, 28.13it/s]\n"
          ]
        },
        {
          "output_type": "stream",
          "name": "stdout",
          "text": [
            "train_acc =  0.68415 train_loss =  0.9004480344772339 Validation_acc =  0.6824 Validation_loss =  0.9347611186981201\n",
            "Training Epoch 6\n"
          ]
        },
        {
          "output_type": "stream",
          "name": "stderr",
          "text": [
            "100%|██████████| 625/625 [00:35<00:00, 17.77it/s]\n",
            "100%|██████████| 157/157 [00:05<00:00, 27.89it/s]\n"
          ]
        },
        {
          "output_type": "stream",
          "name": "stdout",
          "text": [
            "train_acc =  0.709 train_loss =  0.8337671884536744 Validation_acc =  0.6883 Validation_loss =  0.9100459629058838\n",
            "Training Epoch 7\n"
          ]
        },
        {
          "output_type": "stream",
          "name": "stderr",
          "text": [
            "100%|██████████| 625/625 [00:35<00:00, 17.41it/s]\n",
            "100%|██████████| 157/157 [00:05<00:00, 27.89it/s]\n"
          ]
        },
        {
          "output_type": "stream",
          "name": "stdout",
          "text": [
            "train_acc =  0.72815 train_loss =  0.7852215939044952 Validation_acc =  0.6971 Validation_loss =  0.8860047050476074\n",
            "Training Epoch 8\n"
          ]
        },
        {
          "output_type": "stream",
          "name": "stderr",
          "text": [
            "100%|██████████| 625/625 [00:35<00:00, 17.59it/s]\n",
            "100%|██████████| 157/157 [00:05<00:00, 27.68it/s]\n"
          ]
        },
        {
          "output_type": "stream",
          "name": "stdout",
          "text": [
            "train_acc =  0.74185 train_loss =  0.7432269448757172 Validation_acc =  0.7151 Validation_loss =  0.8328365905761719\n",
            "Training Epoch 9\n"
          ]
        },
        {
          "output_type": "stream",
          "name": "stderr",
          "text": [
            "100%|██████████| 625/625 [00:35<00:00, 17.78it/s]\n",
            "100%|██████████| 157/157 [00:05<00:00, 27.93it/s]\n"
          ]
        },
        {
          "output_type": "stream",
          "name": "stdout",
          "text": [
            "train_acc =  0.7537 train_loss =  0.7033576318740845 Validation_acc =  0.7156 Validation_loss =  0.8423911437988282\n",
            "Training Epoch 10\n"
          ]
        },
        {
          "output_type": "stream",
          "name": "stderr",
          "text": [
            "100%|██████████| 625/625 [00:34<00:00, 17.88it/s]\n",
            "100%|██████████| 157/157 [00:05<00:00, 27.30it/s]\n"
          ]
        },
        {
          "output_type": "stream",
          "name": "stdout",
          "text": [
            "train_acc =  0.765925 train_loss =  0.6680513334274292 Validation_acc =  0.7205 Validation_loss =  0.8178975433349609\n",
            "Training Epoch 11\n"
          ]
        },
        {
          "output_type": "stream",
          "name": "stderr",
          "text": [
            "100%|██████████| 625/625 [00:35<00:00, 17.64it/s]\n",
            "100%|██████████| 157/157 [00:06<00:00, 25.61it/s]\n"
          ]
        },
        {
          "output_type": "stream",
          "name": "stdout",
          "text": [
            "train_acc =  0.78275 train_loss =  0.6255208460330963 Validation_acc =  0.7225 Validation_loss =  0.8190732273101806\n",
            "Training Epoch 12\n"
          ]
        },
        {
          "output_type": "stream",
          "name": "stderr",
          "text": [
            "100%|██████████| 625/625 [00:34<00:00, 18.19it/s]\n",
            "100%|██████████| 157/157 [00:05<00:00, 26.38it/s]\n"
          ]
        },
        {
          "output_type": "stream",
          "name": "stdout",
          "text": [
            "train_acc =  0.788525 train_loss =  0.6090098370552063 Validation_acc =  0.7248 Validation_loss =  0.8249307292938233\n",
            "Training Epoch 13\n"
          ]
        },
        {
          "output_type": "stream",
          "name": "stderr",
          "text": [
            "100%|██████████| 625/625 [00:34<00:00, 18.04it/s]\n",
            "100%|██████████| 157/157 [00:06<00:00, 24.92it/s]\n"
          ]
        },
        {
          "output_type": "stream",
          "name": "stdout",
          "text": [
            "train_acc =  0.800075 train_loss =  0.5717699018001556 Validation_acc =  0.7338 Validation_loss =  0.7893698114395141\n",
            "Training Epoch 14\n"
          ]
        },
        {
          "output_type": "stream",
          "name": "stderr",
          "text": [
            "100%|██████████| 625/625 [00:34<00:00, 18.27it/s]\n",
            "100%|██████████| 157/157 [00:06<00:00, 24.29it/s]\n"
          ]
        },
        {
          "output_type": "stream",
          "name": "stdout",
          "text": [
            "train_acc =  0.809325 train_loss =  0.5528339120864868 Validation_acc =  0.7366 Validation_loss =  0.8043609777450561\n",
            "Training Epoch 15\n"
          ]
        },
        {
          "output_type": "stream",
          "name": "stderr",
          "text": [
            "100%|██████████| 625/625 [00:34<00:00, 18.11it/s]\n",
            "100%|██████████| 157/157 [00:06<00:00, 23.38it/s]\n"
          ]
        },
        {
          "output_type": "stream",
          "name": "stdout",
          "text": [
            "train_acc =  0.818325 train_loss =  0.5194919717788696 Validation_acc =  0.7484 Validation_loss =  0.7586509046554566\n",
            "Training Epoch 16\n"
          ]
        },
        {
          "output_type": "stream",
          "name": "stderr",
          "text": [
            "100%|██████████| 625/625 [00:34<00:00, 18.19it/s]\n",
            "100%|██████████| 157/157 [00:06<00:00, 23.89it/s]\n"
          ]
        },
        {
          "output_type": "stream",
          "name": "stdout",
          "text": [
            "train_acc =  0.8265 train_loss =  0.49945078663825987 Validation_acc =  0.7585 Validation_loss =  0.7397855758666992\n",
            "Training Epoch 17\n"
          ]
        },
        {
          "output_type": "stream",
          "name": "stderr",
          "text": [
            "100%|██████████| 625/625 [00:34<00:00, 18.09it/s]\n",
            "100%|██████████| 157/157 [00:06<00:00, 23.60it/s]\n"
          ]
        },
        {
          "output_type": "stream",
          "name": "stdout",
          "text": [
            "train_acc =  0.83425 train_loss =  0.4752224505662918 Validation_acc =  0.7497 Validation_loss =  0.7731663902282715\n",
            "Training Epoch 18\n"
          ]
        },
        {
          "output_type": "stream",
          "name": "stderr",
          "text": [
            "100%|██████████| 625/625 [00:34<00:00, 17.88it/s]\n",
            "100%|██████████| 157/157 [00:06<00:00, 23.14it/s]\n"
          ]
        },
        {
          "output_type": "stream",
          "name": "stdout",
          "text": [
            "train_acc =  0.8401 train_loss =  0.46032904665470126 Validation_acc =  0.752 Validation_loss =  0.7640654382705688\n",
            "Training Epoch 19\n"
          ]
        },
        {
          "output_type": "stream",
          "name": "stderr",
          "text": [
            "100%|██████████| 625/625 [00:34<00:00, 18.02it/s]\n",
            "100%|██████████| 157/157 [00:06<00:00, 23.96it/s]\n"
          ]
        },
        {
          "output_type": "stream",
          "name": "stdout",
          "text": [
            "train_acc =  0.85025 train_loss =  0.43344276983737945 Validation_acc =  0.7548 Validation_loss =  0.7716969997406006\n",
            "Training Epoch 20\n"
          ]
        },
        {
          "output_type": "stream",
          "name": "stderr",
          "text": [
            "100%|██████████| 625/625 [00:35<00:00, 17.79it/s]\n",
            "100%|██████████| 157/157 [00:06<00:00, 25.12it/s]\n"
          ]
        },
        {
          "output_type": "stream",
          "name": "stdout",
          "text": [
            "train_acc =  0.852825 train_loss =  0.417627463054657 Validation_acc =  0.7553 Validation_loss =  0.7844809469223022\n",
            "Training Epoch 21\n"
          ]
        },
        {
          "output_type": "stream",
          "name": "stderr",
          "text": [
            "100%|██████████| 625/625 [00:35<00:00, 17.57it/s]\n",
            "100%|██████████| 157/157 [00:05<00:00, 27.28it/s]\n"
          ]
        },
        {
          "output_type": "stream",
          "name": "stdout",
          "text": [
            "train_acc =  0.85775 train_loss =  0.40231458331346515 Validation_acc =  0.7501 Validation_loss =  0.791293800163269\n",
            "Training Epoch 22\n"
          ]
        },
        {
          "output_type": "stream",
          "name": "stderr",
          "text": [
            "100%|██████████| 625/625 [00:35<00:00, 17.64it/s]\n",
            "100%|██████████| 157/157 [00:05<00:00, 27.87it/s]\n"
          ]
        },
        {
          "output_type": "stream",
          "name": "stdout",
          "text": [
            "train_acc =  0.8683 train_loss =  0.37532382271289827 Validation_acc =  0.7647 Validation_loss =  0.762763150215149\n",
            "Training Epoch 23\n"
          ]
        },
        {
          "output_type": "stream",
          "name": "stderr",
          "text": [
            "100%|██████████| 625/625 [00:35<00:00, 17.74it/s]\n",
            "100%|██████████| 157/157 [00:05<00:00, 27.96it/s]\n"
          ]
        },
        {
          "output_type": "stream",
          "name": "stdout",
          "text": [
            "train_acc =  0.871625 train_loss =  0.36482883929014204 Validation_acc =  0.7592 Validation_loss =  0.7858343009948731\n",
            "Training Epoch 24\n"
          ]
        },
        {
          "output_type": "stream",
          "name": "stderr",
          "text": [
            "100%|██████████| 625/625 [00:35<00:00, 17.67it/s]\n",
            "100%|██████████| 157/157 [00:05<00:00, 28.04it/s]\n"
          ]
        },
        {
          "output_type": "stream",
          "name": "stdout",
          "text": [
            "train_acc =  0.87445 train_loss =  0.358673069024086 Validation_acc =  0.7462 Validation_loss =  0.8339584955215454\n",
            "Training Epoch 25\n"
          ]
        },
        {
          "output_type": "stream",
          "name": "stderr",
          "text": [
            "100%|██████████| 625/625 [00:35<00:00, 17.82it/s]\n",
            "100%|██████████| 157/157 [00:05<00:00, 28.21it/s]\n"
          ]
        },
        {
          "output_type": "stream",
          "name": "stdout",
          "text": [
            "train_acc =  0.881325 train_loss =  0.34440333267450335 Validation_acc =  0.7584 Validation_loss =  0.8039125337600708\n",
            "Training Epoch 26\n"
          ]
        },
        {
          "output_type": "stream",
          "name": "stderr",
          "text": [
            "100%|██████████| 625/625 [00:34<00:00, 18.02it/s]\n",
            "100%|██████████| 157/157 [00:05<00:00, 28.47it/s]\n"
          ]
        },
        {
          "output_type": "stream",
          "name": "stdout",
          "text": [
            "train_acc =  0.888725 train_loss =  0.3196104605436325 Validation_acc =  0.7567 Validation_loss =  0.8237390815734863\n",
            "Training Epoch 27\n"
          ]
        },
        {
          "output_type": "stream",
          "name": "stderr",
          "text": [
            "100%|██████████| 625/625 [00:35<00:00, 17.71it/s]\n",
            "100%|██████████| 157/157 [00:05<00:00, 28.09it/s]\n"
          ]
        },
        {
          "output_type": "stream",
          "name": "stdout",
          "text": [
            "train_acc =  0.888675 train_loss =  0.31405431191921235 Validation_acc =  0.7613 Validation_loss =  0.8332098066329956\n",
            "Training Epoch 28\n"
          ]
        },
        {
          "output_type": "stream",
          "name": "stderr",
          "text": [
            "100%|██████████| 625/625 [00:35<00:00, 17.81it/s]\n",
            "100%|██████████| 157/157 [00:05<00:00, 28.19it/s]\n"
          ]
        },
        {
          "output_type": "stream",
          "name": "stdout",
          "text": [
            "train_acc =  0.893975 train_loss =  0.3061057187199593 Validation_acc =  0.7613 Validation_loss =  0.8188706371307373\n",
            "Training Epoch 29\n"
          ]
        },
        {
          "output_type": "stream",
          "name": "stderr",
          "text": [
            "100%|██████████| 625/625 [00:35<00:00, 17.63it/s]\n",
            "100%|██████████| 157/157 [00:05<00:00, 27.43it/s]\n"
          ]
        },
        {
          "output_type": "stream",
          "name": "stdout",
          "text": [
            "train_acc =  0.898175 train_loss =  0.2915391401171684 Validation_acc =  0.7656 Validation_loss =  0.8159163734436036\n",
            "Training Epoch 30\n"
          ]
        },
        {
          "output_type": "stream",
          "name": "stderr",
          "text": [
            "100%|██████████| 625/625 [00:35<00:00, 17.80it/s]\n",
            "100%|██████████| 157/157 [00:05<00:00, 26.71it/s]\n"
          ]
        },
        {
          "output_type": "stream",
          "name": "stdout",
          "text": [
            "train_acc =  0.901875 train_loss =  0.2804037762701511 Validation_acc =  0.7599 Validation_loss =  0.8390736959457398\n",
            "Test Accuracy is  0.7838\n"
          ]
        },
        {
          "output_type": "display_data",
          "data": {
            "text/plain": [
              "<IPython.core.display.HTML object>"
            ],
            "text/html": [
              "Waiting for W&B process to finish... <strong style=\"color:green\">(success).</strong>"
            ]
          },
          "metadata": {}
        },
        {
          "output_type": "display_data",
          "data": {
            "text/plain": [
              "<IPython.core.display.HTML object>"
            ],
            "text/html": [
              "<style>\n",
              "    table.wandb td:nth-child(1) { padding: 0 10px; text-align: left ; width: auto;} td:nth-child(2) {text-align: left ; width: 100%}\n",
              "    .wandb-row { display: flex; flex-direction: row; flex-wrap: wrap; justify-content: flex-start; width: 100% }\n",
              "    .wandb-col { display: flex; flex-direction: column; flex-basis: 100%; flex: 1; padding: 10px; }\n",
              "    </style>\n",
              "<div class=\"wandb-row\"><div class=\"wandb-col\"><h3>Run history:</h3><br/><table class=\"wandb\"><tr><td>Validation_acc</td><td>▁▃▄▅▆▆▆▇▇▇▇▇▇▇█████████▇██████</td></tr><tr><td>Validation_loss</td><td>█▆▅▄▃▃▃▂▂▂▂▂▂▂▁▁▁▁▁▁▂▁▁▂▂▂▂▂▂▂</td></tr><tr><td>train_acc</td><td>▁▃▄▄▅▅▅▆▆▆▆▆▇▇▇▇▇▇▇▇▇█████████</td></tr><tr><td>train_loss</td><td>█▆▅▅▄▄▄▃▃▃▃▃▃▂▂▂▂▂▂▂▂▂▁▁▁▁▁▁▁▁</td></tr></table><br/></div><div class=\"wandb-col\"><h3>Run summary:</h3><br/><table class=\"wandb\"><tr><td>Validation_acc</td><td>0.7599</td></tr><tr><td>Validation_loss</td><td>0.83907</td></tr><tr><td>train_acc</td><td>0.90187</td></tr><tr><td>train_loss</td><td>0.2804</td></tr></table><br/></div></div>"
            ]
          },
          "metadata": {}
        },
        {
          "output_type": "display_data",
          "data": {
            "text/plain": [
              "<IPython.core.display.HTML object>"
            ],
            "text/html": [
              " View run <strong style=\"color:#cdcd00\">silvery-monkey-4</strong> at: <a href='https://wandb.ai/dl-codes/dl_project_2023/runs/tn0y1af2' target=\"_blank\">https://wandb.ai/dl-codes/dl_project_2023/runs/tn0y1af2</a><br/>Synced 5 W&B file(s), 1 media file(s), 321 artifact file(s) and 0 other file(s)"
            ]
          },
          "metadata": {}
        },
        {
          "output_type": "display_data",
          "data": {
            "text/plain": [
              "<IPython.core.display.HTML object>"
            ],
            "text/html": [
              "Find logs at: <code>./wandb/run-20230509_213849-tn0y1af2/logs</code>"
            ]
          },
          "metadata": {}
        },
        {
          "output_type": "stream",
          "name": "stderr",
          "text": [
            "Using cache found in /root/.cache/torch/hub/pytorch_vision_v0.10.0\n",
            "/usr/local/lib/python3.10/dist-packages/torchvision/models/_utils.py:208: UserWarning: The parameter 'pretrained' is deprecated since 0.13 and may be removed in the future, please use 'weights' instead.\n",
            "  warnings.warn(\n",
            "/usr/local/lib/python3.10/dist-packages/torchvision/models/_utils.py:223: UserWarning: Arguments other than a weight enum or `None` for 'weights' are deprecated since 0.13 and may be removed in the future. The current behavior is equivalent to passing `weights=None`.\n",
            "  warnings.warn(msg)\n"
          ]
        },
        {
          "output_type": "display_data",
          "data": {
            "text/plain": [
              "<IPython.core.display.HTML object>"
            ],
            "text/html": [
              "Tracking run with wandb version 0.15.2"
            ]
          },
          "metadata": {}
        },
        {
          "output_type": "display_data",
          "data": {
            "text/plain": [
              "<IPython.core.display.HTML object>"
            ],
            "text/html": [
              "Run data is saved locally in <code>/content/wandb/run-20230509_215940-frqdcn1d</code>"
            ]
          },
          "metadata": {}
        },
        {
          "output_type": "display_data",
          "data": {
            "text/plain": [
              "<IPython.core.display.HTML object>"
            ],
            "text/html": [
              "Syncing run <strong><a href='https://wandb.ai/dl-codes/dl_project_2023/runs/frqdcn1d' target=\"_blank\">breezy-thunder-5</a></strong> to <a href='https://wandb.ai/dl-codes/dl_project_2023' target=\"_blank\">Weights & Biases</a> (<a href='https://wandb.me/run' target=\"_blank\">docs</a>)<br/>"
            ]
          },
          "metadata": {}
        },
        {
          "output_type": "display_data",
          "data": {
            "text/plain": [
              "<IPython.core.display.HTML object>"
            ],
            "text/html": [
              " View project at <a href='https://wandb.ai/dl-codes/dl_project_2023' target=\"_blank\">https://wandb.ai/dl-codes/dl_project_2023</a>"
            ]
          },
          "metadata": {}
        },
        {
          "output_type": "display_data",
          "data": {
            "text/plain": [
              "<IPython.core.display.HTML object>"
            ],
            "text/html": [
              " View run at <a href='https://wandb.ai/dl-codes/dl_project_2023/runs/frqdcn1d' target=\"_blank\">https://wandb.ai/dl-codes/dl_project_2023/runs/frqdcn1d</a>"
            ]
          },
          "metadata": {}
        },
        {
          "output_type": "stream",
          "name": "stdout",
          "text": [
            "Training Epoch 1\n"
          ]
        },
        {
          "output_type": "stream",
          "name": "stderr",
          "text": [
            "100%|██████████| 625/625 [00:32<00:00, 19.01it/s]\n",
            "100%|██████████| 157/157 [00:06<00:00, 24.51it/s]\n"
          ]
        },
        {
          "output_type": "stream",
          "name": "stdout",
          "text": [
            "train_acc =  0.4377 train_loss =  1.5413286590576172 Validation_acc =  0.5147 Validation_loss =  1.3529472030639649\n",
            "Training Epoch 2\n"
          ]
        },
        {
          "output_type": "stream",
          "name": "stderr",
          "text": [
            "100%|██████████| 625/625 [00:32<00:00, 19.20it/s]\n",
            "100%|██████████| 157/157 [00:06<00:00, 24.39it/s]\n"
          ]
        },
        {
          "output_type": "stream",
          "name": "stdout",
          "text": [
            "train_acc =  0.5734 train_loss =  1.196346427154541 Validation_acc =  0.5976 Validation_loss =  1.15643600730896\n",
            "Training Epoch 3\n"
          ]
        },
        {
          "output_type": "stream",
          "name": "stderr",
          "text": [
            "100%|██████████| 625/625 [00:32<00:00, 19.33it/s]\n",
            "100%|██████████| 157/157 [00:06<00:00, 25.35it/s]\n"
          ]
        },
        {
          "output_type": "stream",
          "name": "stdout",
          "text": [
            "train_acc =  0.636725 train_loss =  1.035493186855316 Validation_acc =  0.6426 Validation_loss =  1.0211518924713134\n",
            "Training Epoch 4\n"
          ]
        },
        {
          "output_type": "stream",
          "name": "stderr",
          "text": [
            "100%|██████████| 625/625 [00:32<00:00, 19.14it/s]\n",
            "100%|██████████| 157/157 [00:05<00:00, 28.57it/s]\n"
          ]
        },
        {
          "output_type": "stream",
          "name": "stdout",
          "text": [
            "train_acc =  0.67335 train_loss =  0.9299217368125916 Validation_acc =  0.6765 Validation_loss =  0.9359645191192627\n",
            "Training Epoch 5\n"
          ]
        },
        {
          "output_type": "stream",
          "name": "stderr",
          "text": [
            "100%|██████████| 625/625 [00:33<00:00, 18.64it/s]\n",
            "100%|██████████| 157/157 [00:05<00:00, 28.70it/s]\n"
          ]
        },
        {
          "output_type": "stream",
          "name": "stdout",
          "text": [
            "train_acc =  0.704075 train_loss =  0.8505143927097321 Validation_acc =  0.6836 Validation_loss =  0.9185932689666748\n",
            "Training Epoch 6\n"
          ]
        },
        {
          "output_type": "stream",
          "name": "stderr",
          "text": [
            "100%|██████████| 625/625 [00:33<00:00, 18.46it/s]\n",
            "100%|██████████| 157/157 [00:05<00:00, 29.10it/s]\n"
          ]
        },
        {
          "output_type": "stream",
          "name": "stdout",
          "text": [
            "train_acc =  0.725125 train_loss =  0.7914693849563599 Validation_acc =  0.6984 Validation_loss =  0.8798801116943359\n",
            "Training Epoch 7\n"
          ]
        },
        {
          "output_type": "stream",
          "name": "stderr",
          "text": [
            "100%|██████████| 625/625 [00:34<00:00, 18.24it/s]\n",
            "100%|██████████| 157/157 [00:05<00:00, 28.54it/s]\n"
          ]
        },
        {
          "output_type": "stream",
          "name": "stdout",
          "text": [
            "train_acc =  0.74135 train_loss =  0.7418330438137054 Validation_acc =  0.7137 Validation_loss =  0.8425047750473023\n",
            "Training Epoch 8\n"
          ]
        },
        {
          "output_type": "stream",
          "name": "stderr",
          "text": [
            "100%|██████████| 625/625 [00:33<00:00, 18.68it/s]\n",
            "100%|██████████| 157/157 [00:05<00:00, 28.89it/s]\n"
          ]
        },
        {
          "output_type": "stream",
          "name": "stdout",
          "text": [
            "train_acc =  0.755575 train_loss =  0.7033887061595917 Validation_acc =  0.713 Validation_loss =  0.8302231475830079\n",
            "Training Epoch 9\n"
          ]
        },
        {
          "output_type": "stream",
          "name": "stderr",
          "text": [
            "100%|██████████| 625/625 [00:33<00:00, 18.61it/s]\n",
            "100%|██████████| 157/157 [00:05<00:00, 27.01it/s]\n"
          ]
        },
        {
          "output_type": "stream",
          "name": "stdout",
          "text": [
            "train_acc =  0.77155 train_loss =  0.6606822811603547 Validation_acc =  0.7249 Validation_loss =  0.7973004631042481\n",
            "Training Epoch 10\n"
          ]
        },
        {
          "output_type": "stream",
          "name": "stderr",
          "text": [
            "100%|██████████| 625/625 [00:32<00:00, 19.52it/s]\n",
            "100%|██████████| 157/157 [00:06<00:00, 24.40it/s]\n"
          ]
        },
        {
          "output_type": "stream",
          "name": "stdout",
          "text": [
            "train_acc =  0.7823 train_loss =  0.624804424381256 Validation_acc =  0.7366 Validation_loss =  0.7779529504776\n",
            "Training Epoch 11\n"
          ]
        },
        {
          "output_type": "stream",
          "name": "stderr",
          "text": [
            "100%|██████████| 625/625 [00:32<00:00, 19.50it/s]\n",
            "100%|██████████| 157/157 [00:06<00:00, 24.56it/s]\n"
          ]
        },
        {
          "output_type": "stream",
          "name": "stdout",
          "text": [
            "train_acc =  0.797325 train_loss =  0.5868791849136352 Validation_acc =  0.7484 Validation_loss =  0.7490965850830078\n",
            "Training Epoch 12\n"
          ]
        },
        {
          "output_type": "stream",
          "name": "stderr",
          "text": [
            "100%|██████████| 625/625 [00:32<00:00, 19.24it/s]\n",
            "100%|██████████| 157/157 [00:06<00:00, 24.74it/s]\n"
          ]
        },
        {
          "output_type": "stream",
          "name": "stdout",
          "text": [
            "train_acc =  0.80325 train_loss =  0.5634972604751587 Validation_acc =  0.7409 Validation_loss =  0.7810857769012451\n",
            "Training Epoch 13\n"
          ]
        },
        {
          "output_type": "stream",
          "name": "stderr",
          "text": [
            "100%|██████████| 625/625 [00:32<00:00, 19.43it/s]\n",
            "100%|██████████| 157/157 [00:05<00:00, 27.10it/s]\n"
          ]
        },
        {
          "output_type": "stream",
          "name": "stdout",
          "text": [
            "train_acc =  0.814575 train_loss =  0.5313828237056732 Validation_acc =  0.7496 Validation_loss =  0.7523017780303956\n",
            "Training Epoch 14\n"
          ]
        },
        {
          "output_type": "stream",
          "name": "stderr",
          "text": [
            "100%|██████████| 625/625 [00:32<00:00, 19.16it/s]\n",
            "100%|██████████| 157/157 [00:05<00:00, 28.98it/s]\n"
          ]
        },
        {
          "output_type": "stream",
          "name": "stdout",
          "text": [
            "train_acc =  0.82505 train_loss =  0.5021963504314423 Validation_acc =  0.7489 Validation_loss =  0.7468346141815185\n",
            "Training Epoch 15\n"
          ]
        },
        {
          "output_type": "stream",
          "name": "stderr",
          "text": [
            "100%|██████████| 625/625 [00:33<00:00, 18.60it/s]\n",
            "100%|██████████| 157/157 [00:05<00:00, 29.14it/s]\n"
          ]
        },
        {
          "output_type": "stream",
          "name": "stdout",
          "text": [
            "train_acc =  0.82925 train_loss =  0.4894460139989853 Validation_acc =  0.7645 Validation_loss =  0.713997183227539\n",
            "Training Epoch 16\n"
          ]
        },
        {
          "output_type": "stream",
          "name": "stderr",
          "text": [
            "100%|██████████| 625/625 [00:33<00:00, 18.67it/s]\n",
            "100%|██████████| 157/157 [00:05<00:00, 28.84it/s]\n"
          ]
        },
        {
          "output_type": "stream",
          "name": "stdout",
          "text": [
            "train_acc =  0.839925 train_loss =  0.4588237404823303 Validation_acc =  0.7616 Validation_loss =  0.7269240732192993\n",
            "Training Epoch 17\n"
          ]
        },
        {
          "output_type": "stream",
          "name": "stderr",
          "text": [
            "100%|██████████| 625/625 [00:32<00:00, 18.94it/s]\n",
            "100%|██████████| 157/157 [00:05<00:00, 26.63it/s]\n"
          ]
        },
        {
          "output_type": "stream",
          "name": "stdout",
          "text": [
            "train_acc =  0.8472 train_loss =  0.4374132011175156 Validation_acc =  0.766 Validation_loss =  0.7190490251541137\n",
            "Training Epoch 18\n"
          ]
        },
        {
          "output_type": "stream",
          "name": "stderr",
          "text": [
            "100%|██████████| 625/625 [00:32<00:00, 19.13it/s]\n",
            "100%|██████████| 157/157 [00:06<00:00, 25.01it/s]\n"
          ]
        },
        {
          "output_type": "stream",
          "name": "stdout",
          "text": [
            "train_acc =  0.854525 train_loss =  0.41557769364118574 Validation_acc =  0.7652 Validation_loss =  0.7263632055282593\n",
            "Training Epoch 19\n"
          ]
        },
        {
          "output_type": "stream",
          "name": "stderr",
          "text": [
            "100%|██████████| 625/625 [00:32<00:00, 19.29it/s]\n",
            "100%|██████████| 157/157 [00:06<00:00, 24.09it/s]\n"
          ]
        },
        {
          "output_type": "stream",
          "name": "stdout",
          "text": [
            "train_acc =  0.861625 train_loss =  0.39421566985845563 Validation_acc =  0.7668 Validation_loss =  0.7559979501724243\n",
            "Training Epoch 20\n"
          ]
        },
        {
          "output_type": "stream",
          "name": "stderr",
          "text": [
            "100%|██████████| 625/625 [00:32<00:00, 19.40it/s]\n",
            "100%|██████████| 157/157 [00:06<00:00, 24.29it/s]\n"
          ]
        },
        {
          "output_type": "stream",
          "name": "stdout",
          "text": [
            "train_acc =  0.866375 train_loss =  0.38076364216804504 Validation_acc =  0.7708 Validation_loss =  0.7177479887008666\n",
            "Training Epoch 21\n"
          ]
        },
        {
          "output_type": "stream",
          "name": "stderr",
          "text": [
            "100%|██████████| 625/625 [00:32<00:00, 19.24it/s]\n",
            "100%|██████████| 157/157 [00:05<00:00, 26.29it/s]\n"
          ]
        },
        {
          "output_type": "stream",
          "name": "stdout",
          "text": [
            "train_acc =  0.870475 train_loss =  0.3693378738760948 Validation_acc =  0.7654 Validation_loss =  0.7538695257186889\n",
            "Training Epoch 22\n"
          ]
        },
        {
          "output_type": "stream",
          "name": "stderr",
          "text": [
            "100%|██████████| 625/625 [00:32<00:00, 19.22it/s]\n",
            "100%|██████████| 157/157 [00:05<00:00, 29.01it/s]\n"
          ]
        },
        {
          "output_type": "stream",
          "name": "stdout",
          "text": [
            "train_acc =  0.87555 train_loss =  0.3515106972336769 Validation_acc =  0.7726 Validation_loss =  0.7304276130676269\n",
            "Training Epoch 23\n"
          ]
        },
        {
          "output_type": "stream",
          "name": "stderr",
          "text": [
            "100%|██████████| 625/625 [00:33<00:00, 18.66it/s]\n",
            "100%|██████████| 157/157 [00:05<00:00, 28.46it/s]\n"
          ]
        },
        {
          "output_type": "stream",
          "name": "stdout",
          "text": [
            "train_acc =  0.88535 train_loss =  0.32882614350318906 Validation_acc =  0.7713 Validation_loss =  0.7633518098831177\n",
            "Training Epoch 24\n"
          ]
        },
        {
          "output_type": "stream",
          "name": "stderr",
          "text": [
            "100%|██████████| 625/625 [00:33<00:00, 18.52it/s]\n",
            "100%|██████████| 157/157 [00:05<00:00, 28.56it/s]\n"
          ]
        },
        {
          "output_type": "stream",
          "name": "stdout",
          "text": [
            "train_acc =  0.890575 train_loss =  0.3144991118907928 Validation_acc =  0.7637 Validation_loss =  0.7930566230773926\n",
            "Training Epoch 25\n"
          ]
        },
        {
          "output_type": "stream",
          "name": "stderr",
          "text": [
            "100%|██████████| 625/625 [00:33<00:00, 18.78it/s]\n",
            "100%|██████████| 157/157 [00:05<00:00, 28.25it/s]\n"
          ]
        },
        {
          "output_type": "stream",
          "name": "stdout",
          "text": [
            "train_acc =  0.893 train_loss =  0.3038868060350418 Validation_acc =  0.7685 Validation_loss =  0.756945972442627\n",
            "Training Epoch 26\n"
          ]
        },
        {
          "output_type": "stream",
          "name": "stderr",
          "text": [
            "100%|██████████| 625/625 [00:33<00:00, 18.79it/s]\n",
            "100%|██████████| 157/157 [00:05<00:00, 26.40it/s]\n"
          ]
        },
        {
          "output_type": "stream",
          "name": "stdout",
          "text": [
            "train_acc =  0.8969 train_loss =  0.29018986797332763 Validation_acc =  0.768 Validation_loss =  0.8024597011566162\n",
            "Training Epoch 27\n"
          ]
        },
        {
          "output_type": "stream",
          "name": "stderr",
          "text": [
            "100%|██████████| 625/625 [00:32<00:00, 19.01it/s]\n",
            "100%|██████████| 157/157 [00:06<00:00, 23.68it/s]\n"
          ]
        },
        {
          "output_type": "stream",
          "name": "stdout",
          "text": [
            "train_acc =  0.9037 train_loss =  0.280200169980526 Validation_acc =  0.7692 Validation_loss =  0.816272673034668\n",
            "Training Epoch 28\n"
          ]
        },
        {
          "output_type": "stream",
          "name": "stderr",
          "text": [
            "100%|██████████| 625/625 [00:33<00:00, 18.79it/s]\n",
            "100%|██████████| 157/157 [00:06<00:00, 23.87it/s]\n"
          ]
        },
        {
          "output_type": "stream",
          "name": "stdout",
          "text": [
            "train_acc =  0.9068 train_loss =  0.2657664907574654 Validation_acc =  0.7681 Validation_loss =  0.8063131704330444\n",
            "Training Epoch 29\n"
          ]
        },
        {
          "output_type": "stream",
          "name": "stderr",
          "text": [
            "100%|██████████| 625/625 [00:33<00:00, 18.89it/s]\n",
            "100%|██████████| 157/157 [00:06<00:00, 24.33it/s]\n"
          ]
        },
        {
          "output_type": "stream",
          "name": "stdout",
          "text": [
            "train_acc =  0.909975 train_loss =  0.2574327532291412 Validation_acc =  0.7729 Validation_loss =  0.7948024957656861\n",
            "Training Epoch 30\n"
          ]
        },
        {
          "output_type": "stream",
          "name": "stderr",
          "text": [
            "100%|██████████| 625/625 [00:33<00:00, 18.61it/s]\n",
            "100%|██████████| 157/157 [00:06<00:00, 23.48it/s]\n"
          ]
        },
        {
          "output_type": "stream",
          "name": "stdout",
          "text": [
            "train_acc =  0.913 train_loss =  0.24553935430645943 Validation_acc =  0.7702 Validation_loss =  0.8083389751434327\n",
            "Test Accuracy is  0.7903\n"
          ]
        },
        {
          "output_type": "display_data",
          "data": {
            "text/plain": [
              "<IPython.core.display.HTML object>"
            ],
            "text/html": [
              "Waiting for W&B process to finish... <strong style=\"color:green\">(success).</strong>"
            ]
          },
          "metadata": {}
        },
        {
          "output_type": "display_data",
          "data": {
            "text/plain": [
              "<IPython.core.display.HTML object>"
            ],
            "text/html": [
              "<style>\n",
              "    table.wandb td:nth-child(1) { padding: 0 10px; text-align: left ; width: auto;} td:nth-child(2) {text-align: left ; width: 100%}\n",
              "    .wandb-row { display: flex; flex-direction: row; flex-wrap: wrap; justify-content: flex-start; width: 100% }\n",
              "    .wandb-col { display: flex; flex-direction: column; flex-basis: 100%; flex: 1; padding: 10px; }\n",
              "    </style>\n",
              "<div class=\"wandb-row\"><div class=\"wandb-col\"><h3>Run history:</h3><br/><table class=\"wandb\"><tr><td>Validation_acc</td><td>▁▃▄▅▆▆▆▆▇▇▇▇▇▇████████████████</td></tr><tr><td>Validation_loss</td><td>█▆▄▃▃▃▂▂▂▂▁▂▁▁▁▁▁▁▁▁▁▁▂▂▁▂▂▂▂▂</td></tr><tr><td>train_acc</td><td>▁▃▄▄▅▅▅▆▆▆▆▆▇▇▇▇▇▇▇▇▇▇████████</td></tr><tr><td>train_loss</td><td>█▆▅▅▄▄▄▃▃▃▃▃▃▂▂▂▂▂▂▂▂▂▁▁▁▁▁▁▁▁</td></tr></table><br/></div><div class=\"wandb-col\"><h3>Run summary:</h3><br/><table class=\"wandb\"><tr><td>Validation_acc</td><td>0.7702</td></tr><tr><td>Validation_loss</td><td>0.80834</td></tr><tr><td>train_acc</td><td>0.913</td></tr><tr><td>train_loss</td><td>0.24554</td></tr></table><br/></div></div>"
            ]
          },
          "metadata": {}
        },
        {
          "output_type": "display_data",
          "data": {
            "text/plain": [
              "<IPython.core.display.HTML object>"
            ],
            "text/html": [
              " View run <strong style=\"color:#cdcd00\">breezy-thunder-5</strong> at: <a href='https://wandb.ai/dl-codes/dl_project_2023/runs/frqdcn1d' target=\"_blank\">https://wandb.ai/dl-codes/dl_project_2023/runs/frqdcn1d</a><br/>Synced 5 W&B file(s), 1 media file(s), 321 artifact file(s) and 0 other file(s)"
            ]
          },
          "metadata": {}
        },
        {
          "output_type": "display_data",
          "data": {
            "text/plain": [
              "<IPython.core.display.HTML object>"
            ],
            "text/html": [
              "Find logs at: <code>./wandb/run-20230509_215940-frqdcn1d/logs</code>"
            ]
          },
          "metadata": {}
        },
        {
          "output_type": "stream",
          "name": "stderr",
          "text": [
            "Using cache found in /root/.cache/torch/hub/pytorch_vision_v0.10.0\n",
            "/usr/local/lib/python3.10/dist-packages/torchvision/models/_utils.py:208: UserWarning: The parameter 'pretrained' is deprecated since 0.13 and may be removed in the future, please use 'weights' instead.\n",
            "  warnings.warn(\n",
            "/usr/local/lib/python3.10/dist-packages/torchvision/models/_utils.py:223: UserWarning: Arguments other than a weight enum or `None` for 'weights' are deprecated since 0.13 and may be removed in the future. The current behavior is equivalent to passing `weights=None`.\n",
            "  warnings.warn(msg)\n"
          ]
        },
        {
          "output_type": "display_data",
          "data": {
            "text/plain": [
              "<IPython.core.display.HTML object>"
            ],
            "text/html": [
              "Tracking run with wandb version 0.15.2"
            ]
          },
          "metadata": {}
        },
        {
          "output_type": "display_data",
          "data": {
            "text/plain": [
              "<IPython.core.display.HTML object>"
            ],
            "text/html": [
              "Run data is saved locally in <code>/content/wandb/run-20230509_221926-v39gls81</code>"
            ]
          },
          "metadata": {}
        },
        {
          "output_type": "display_data",
          "data": {
            "text/plain": [
              "<IPython.core.display.HTML object>"
            ],
            "text/html": [
              "Syncing run <strong><a href='https://wandb.ai/dl-codes/dl_project_2023/runs/v39gls81' target=\"_blank\">peach-disco-8</a></strong> to <a href='https://wandb.ai/dl-codes/dl_project_2023' target=\"_blank\">Weights & Biases</a> (<a href='https://wandb.me/run' target=\"_blank\">docs</a>)<br/>"
            ]
          },
          "metadata": {}
        },
        {
          "output_type": "display_data",
          "data": {
            "text/plain": [
              "<IPython.core.display.HTML object>"
            ],
            "text/html": [
              " View project at <a href='https://wandb.ai/dl-codes/dl_project_2023' target=\"_blank\">https://wandb.ai/dl-codes/dl_project_2023</a>"
            ]
          },
          "metadata": {}
        },
        {
          "output_type": "display_data",
          "data": {
            "text/plain": [
              "<IPython.core.display.HTML object>"
            ],
            "text/html": [
              " View run at <a href='https://wandb.ai/dl-codes/dl_project_2023/runs/v39gls81' target=\"_blank\">https://wandb.ai/dl-codes/dl_project_2023/runs/v39gls81</a>"
            ]
          },
          "metadata": {}
        },
        {
          "output_type": "stream",
          "name": "stdout",
          "text": [
            "Training Epoch 1\n"
          ]
        },
        {
          "output_type": "stream",
          "name": "stderr",
          "text": [
            "100%|██████████| 625/625 [00:33<00:00, 18.46it/s]\n",
            "100%|██████████| 157/157 [00:05<00:00, 26.18it/s]\n"
          ]
        },
        {
          "output_type": "stream",
          "name": "stdout",
          "text": [
            "train_acc =  0.466175 train_loss =  1.475921531867981 Validation_acc =  0.5469 Validation_loss =  1.2565048629760742\n",
            "Training Epoch 2\n"
          ]
        },
        {
          "output_type": "stream",
          "name": "stderr",
          "text": [
            "100%|██████████| 625/625 [00:32<00:00, 19.07it/s]\n",
            "100%|██████████| 157/157 [00:06<00:00, 24.94it/s]\n"
          ]
        },
        {
          "output_type": "stream",
          "name": "stdout",
          "text": [
            "train_acc =  0.598675 train_loss =  1.1326878482818603 Validation_acc =  0.6212 Validation_loss =  1.0818027656555176\n",
            "Training Epoch 3\n"
          ]
        },
        {
          "output_type": "stream",
          "name": "stderr",
          "text": [
            "100%|██████████| 625/625 [00:32<00:00, 19.07it/s]\n",
            "100%|██████████| 157/157 [00:06<00:00, 24.11it/s]\n"
          ]
        },
        {
          "output_type": "stream",
          "name": "stdout",
          "text": [
            "train_acc =  0.653775 train_loss =  0.9817883233070374 Validation_acc =  0.6475 Validation_loss =  1.0042342987060546\n",
            "Training Epoch 4\n"
          ]
        },
        {
          "output_type": "stream",
          "name": "stderr",
          "text": [
            "100%|██████████| 625/625 [00:32<00:00, 19.25it/s]\n",
            "100%|██████████| 157/157 [00:06<00:00, 23.85it/s]\n"
          ]
        },
        {
          "output_type": "stream",
          "name": "stdout",
          "text": [
            "train_acc =  0.695225 train_loss =  0.872961723613739 Validation_acc =  0.6833 Validation_loss =  0.9020004062652588\n",
            "Training Epoch 5\n"
          ]
        },
        {
          "output_type": "stream",
          "name": "stderr",
          "text": [
            "100%|██████████| 625/625 [00:32<00:00, 19.02it/s]\n",
            "100%|██████████| 157/157 [00:06<00:00, 24.31it/s]\n"
          ]
        },
        {
          "output_type": "stream",
          "name": "stdout",
          "text": [
            "train_acc =  0.719375 train_loss =  0.804034698677063 Validation_acc =  0.6881 Validation_loss =  0.8871442012786865\n",
            "Training Epoch 6\n"
          ]
        },
        {
          "output_type": "stream",
          "name": "stderr",
          "text": [
            "100%|██████████| 625/625 [00:32<00:00, 19.37it/s]\n",
            "100%|██████████| 157/157 [00:05<00:00, 27.41it/s]\n"
          ]
        },
        {
          "output_type": "stream",
          "name": "stdout",
          "text": [
            "train_acc =  0.7423 train_loss =  0.734694104719162 Validation_acc =  0.7181 Validation_loss =  0.8176177295684814\n",
            "Training Epoch 7\n"
          ]
        },
        {
          "output_type": "stream",
          "name": "stderr",
          "text": [
            "100%|██████████| 625/625 [00:32<00:00, 19.01it/s]\n",
            "100%|██████████| 157/157 [00:05<00:00, 28.36it/s]\n"
          ]
        },
        {
          "output_type": "stream",
          "name": "stdout",
          "text": [
            "train_acc =  0.761875 train_loss =  0.6874064721107483 Validation_acc =  0.718 Validation_loss =  0.8346451755523682\n",
            "Training Epoch 8\n"
          ]
        },
        {
          "output_type": "stream",
          "name": "stderr",
          "text": [
            "100%|██████████| 625/625 [00:33<00:00, 18.68it/s]\n",
            "100%|██████████| 157/157 [00:05<00:00, 29.13it/s]\n"
          ]
        },
        {
          "output_type": "stream",
          "name": "stdout",
          "text": [
            "train_acc =  0.776175 train_loss =  0.6418806629657745 Validation_acc =  0.7187 Validation_loss =  0.8140575771331787\n",
            "Training Epoch 9\n"
          ]
        },
        {
          "output_type": "stream",
          "name": "stderr",
          "text": [
            "100%|██████████| 625/625 [00:32<00:00, 19.02it/s]\n",
            "100%|██████████| 157/157 [00:05<00:00, 28.81it/s]\n"
          ]
        },
        {
          "output_type": "stream",
          "name": "stdout",
          "text": [
            "train_acc =  0.788925 train_loss =  0.6077001992940902 Validation_acc =  0.7437 Validation_loss =  0.7586656162261963\n",
            "Training Epoch 10\n"
          ]
        },
        {
          "output_type": "stream",
          "name": "stderr",
          "text": [
            "100%|██████████| 625/625 [00:31<00:00, 19.54it/s]\n",
            "100%|██████████| 157/157 [00:06<00:00, 25.17it/s]\n"
          ]
        },
        {
          "output_type": "stream",
          "name": "stdout",
          "text": [
            "train_acc =  0.804025 train_loss =  0.562619703578949 Validation_acc =  0.7525 Validation_loss =  0.7567843347549439\n",
            "Training Epoch 11\n"
          ]
        },
        {
          "output_type": "stream",
          "name": "stderr",
          "text": [
            "100%|██████████| 625/625 [00:31<00:00, 19.59it/s]\n",
            "100%|██████████| 157/157 [00:06<00:00, 24.49it/s]\n"
          ]
        },
        {
          "output_type": "stream",
          "name": "stdout",
          "text": [
            "train_acc =  0.8174 train_loss =  0.5264836952209473 Validation_acc =  0.7567 Validation_loss =  0.7524166093826294\n",
            "Training Epoch 12\n"
          ]
        },
        {
          "output_type": "stream",
          "name": "stderr",
          "text": [
            "100%|██████████| 625/625 [00:31<00:00, 19.55it/s]\n",
            "100%|██████████| 157/157 [00:06<00:00, 23.38it/s]\n"
          ]
        },
        {
          "output_type": "stream",
          "name": "stdout",
          "text": [
            "train_acc =  0.82495 train_loss =  0.49963896071910857 Validation_acc =  0.7529 Validation_loss =  0.7351454257965088\n",
            "Training Epoch 13\n"
          ]
        },
        {
          "output_type": "stream",
          "name": "stderr",
          "text": [
            "100%|██████████| 625/625 [00:31<00:00, 19.54it/s]\n",
            "100%|██████████| 157/157 [00:05<00:00, 28.13it/s]\n"
          ]
        },
        {
          "output_type": "stream",
          "name": "stdout",
          "text": [
            "train_acc =  0.8365 train_loss =  0.4685179049253464 Validation_acc =  0.7565 Validation_loss =  0.7290132350921631\n",
            "Training Epoch 14\n"
          ]
        },
        {
          "output_type": "stream",
          "name": "stderr",
          "text": [
            "100%|██████████| 625/625 [00:32<00:00, 19.03it/s]\n",
            "100%|██████████| 157/157 [00:05<00:00, 29.70it/s]\n"
          ]
        },
        {
          "output_type": "stream",
          "name": "stdout",
          "text": [
            "train_acc =  0.845125 train_loss =  0.43852591826915743 Validation_acc =  0.7638 Validation_loss =  0.7315411169052124\n",
            "Training Epoch 15\n"
          ]
        },
        {
          "output_type": "stream",
          "name": "stderr",
          "text": [
            "100%|██████████| 625/625 [00:32<00:00, 19.28it/s]\n",
            "100%|██████████| 157/157 [00:05<00:00, 28.42it/s]\n"
          ]
        },
        {
          "output_type": "stream",
          "name": "stdout",
          "text": [
            "train_acc =  0.854075 train_loss =  0.41611530714035033 Validation_acc =  0.7565 Validation_loss =  0.757952445602417\n",
            "Training Epoch 16\n"
          ]
        },
        {
          "output_type": "stream",
          "name": "stderr",
          "text": [
            "100%|██████████| 625/625 [00:32<00:00, 19.19it/s]\n",
            "100%|██████████| 157/157 [00:05<00:00, 26.80it/s]\n"
          ]
        },
        {
          "output_type": "stream",
          "name": "stdout",
          "text": [
            "train_acc =  0.8641 train_loss =  0.38794226672649385 Validation_acc =  0.7602 Validation_loss =  0.7730512506484986\n",
            "Training Epoch 17\n"
          ]
        },
        {
          "output_type": "stream",
          "name": "stderr",
          "text": [
            "100%|██████████| 625/625 [00:31<00:00, 19.73it/s]\n",
            "100%|██████████| 157/157 [00:06<00:00, 23.71it/s]\n"
          ]
        },
        {
          "output_type": "stream",
          "name": "stdout",
          "text": [
            "train_acc =  0.8721 train_loss =  0.3635879596233368 Validation_acc =  0.7621 Validation_loss =  0.7759949447631836\n",
            "Training Epoch 18\n"
          ]
        },
        {
          "output_type": "stream",
          "name": "stderr",
          "text": [
            "100%|██████████| 625/625 [00:32<00:00, 19.52it/s]\n",
            "100%|██████████| 157/157 [00:06<00:00, 24.50it/s]\n"
          ]
        },
        {
          "output_type": "stream",
          "name": "stdout",
          "text": [
            "train_acc =  0.879375 train_loss =  0.346057265496254 Validation_acc =  0.7707 Validation_loss =  0.7502716747283935\n",
            "Training Epoch 19\n"
          ]
        },
        {
          "output_type": "stream",
          "name": "stderr",
          "text": [
            "100%|██████████| 625/625 [00:32<00:00, 19.30it/s]\n",
            "100%|██████████| 157/157 [00:05<00:00, 26.21it/s]\n"
          ]
        },
        {
          "output_type": "stream",
          "name": "stdout",
          "text": [
            "train_acc =  0.8879 train_loss =  0.3176288094997406 Validation_acc =  0.7677 Validation_loss =  0.776922025680542\n",
            "Training Epoch 20\n"
          ]
        },
        {
          "output_type": "stream",
          "name": "stderr",
          "text": [
            "100%|██████████| 625/625 [00:32<00:00, 19.25it/s]\n",
            "100%|██████████| 157/157 [00:05<00:00, 29.48it/s]\n"
          ]
        },
        {
          "output_type": "stream",
          "name": "stdout",
          "text": [
            "train_acc =  0.89345 train_loss =  0.30666677055954933 Validation_acc =  0.7691 Validation_loss =  0.7664345006942749\n",
            "Training Epoch 21\n"
          ]
        },
        {
          "output_type": "stream",
          "name": "stderr",
          "text": [
            "100%|██████████| 625/625 [00:33<00:00, 18.78it/s]\n",
            "100%|██████████| 157/157 [00:05<00:00, 29.28it/s]\n"
          ]
        },
        {
          "output_type": "stream",
          "name": "stdout",
          "text": [
            "train_acc =  0.90175 train_loss =  0.28203065613508227 Validation_acc =  0.7683 Validation_loss =  0.7950303548812866\n",
            "Training Epoch 22\n"
          ]
        },
        {
          "output_type": "stream",
          "name": "stderr",
          "text": [
            "100%|██████████| 625/625 [00:32<00:00, 19.06it/s]\n",
            "100%|██████████| 157/157 [00:05<00:00, 29.03it/s]\n"
          ]
        },
        {
          "output_type": "stream",
          "name": "stdout",
          "text": [
            "train_acc =  0.90445 train_loss =  0.2686161018848419 Validation_acc =  0.7719 Validation_loss =  0.7981246379852295\n",
            "Training Epoch 23\n"
          ]
        },
        {
          "output_type": "stream",
          "name": "stderr",
          "text": [
            "100%|██████████| 625/625 [00:31<00:00, 19.64it/s]\n",
            "100%|██████████| 157/157 [00:06<00:00, 24.70it/s]\n"
          ]
        },
        {
          "output_type": "stream",
          "name": "stdout",
          "text": [
            "train_acc =  0.912525 train_loss =  0.25360927839279174 Validation_acc =  0.7587 Validation_loss =  0.8651278938293457\n",
            "Training Epoch 24\n"
          ]
        },
        {
          "output_type": "stream",
          "name": "stderr",
          "text": [
            "100%|██████████| 625/625 [00:31<00:00, 19.54it/s]\n",
            "100%|██████████| 157/157 [00:06<00:00, 24.57it/s]\n"
          ]
        },
        {
          "output_type": "stream",
          "name": "stdout",
          "text": [
            "train_acc =  0.91685 train_loss =  0.23981252099275588 Validation_acc =  0.7775 Validation_loss =  0.7885970874786377\n",
            "Training Epoch 25\n"
          ]
        },
        {
          "output_type": "stream",
          "name": "stderr",
          "text": [
            "100%|██████████| 625/625 [00:32<00:00, 19.18it/s]\n",
            "100%|██████████| 157/157 [00:06<00:00, 25.00it/s]\n"
          ]
        },
        {
          "output_type": "stream",
          "name": "stdout",
          "text": [
            "train_acc =  0.919075 train_loss =  0.22773708133101464 Validation_acc =  0.7724 Validation_loss =  0.8344645469665527\n",
            "Training Epoch 26\n"
          ]
        },
        {
          "output_type": "stream",
          "name": "stderr",
          "text": [
            "100%|██████████| 625/625 [00:31<00:00, 19.67it/s]\n",
            "100%|██████████| 157/157 [00:05<00:00, 27.17it/s]\n"
          ]
        },
        {
          "output_type": "stream",
          "name": "stdout",
          "text": [
            "train_acc =  0.923725 train_loss =  0.21653763875961304 Validation_acc =  0.772 Validation_loss =  0.8355924354553222\n",
            "Training Epoch 27\n"
          ]
        },
        {
          "output_type": "stream",
          "name": "stderr",
          "text": [
            "100%|██████████| 625/625 [00:32<00:00, 19.09it/s]\n",
            "100%|██████████| 157/157 [00:05<00:00, 28.75it/s]\n"
          ]
        },
        {
          "output_type": "stream",
          "name": "stdout",
          "text": [
            "train_acc =  0.9275 train_loss =  0.20679801381230353 Validation_acc =  0.7634 Validation_loss =  0.8954210475921631\n",
            "Training Epoch 28\n"
          ]
        },
        {
          "output_type": "stream",
          "name": "stderr",
          "text": [
            "100%|██████████| 625/625 [00:33<00:00, 18.60it/s]\n",
            "100%|██████████| 157/157 [00:05<00:00, 29.10it/s]\n"
          ]
        },
        {
          "output_type": "stream",
          "name": "stdout",
          "text": [
            "train_acc =  0.932175 train_loss =  0.19372452873289586 Validation_acc =  0.7744 Validation_loss =  0.8988634759902954\n",
            "Training Epoch 29\n"
          ]
        },
        {
          "output_type": "stream",
          "name": "stderr",
          "text": [
            "100%|██████████| 625/625 [00:33<00:00, 18.71it/s]\n",
            "100%|██████████| 157/157 [00:05<00:00, 28.90it/s]\n"
          ]
        },
        {
          "output_type": "stream",
          "name": "stdout",
          "text": [
            "train_acc =  0.9328 train_loss =  0.190731995177269 Validation_acc =  0.7689 Validation_loss =  0.8925747182846069\n",
            "Training Epoch 30\n"
          ]
        },
        {
          "output_type": "stream",
          "name": "stderr",
          "text": [
            "100%|██████████| 625/625 [00:33<00:00, 18.67it/s]\n",
            "100%|██████████| 157/157 [00:05<00:00, 26.79it/s]\n"
          ]
        },
        {
          "output_type": "stream",
          "name": "stdout",
          "text": [
            "train_acc =  0.9377 train_loss =  0.17771539914309978 Validation_acc =  0.7721 Validation_loss =  0.8998922765731812\n",
            "Test Accuracy is  0.7942\n"
          ]
        },
        {
          "output_type": "display_data",
          "data": {
            "text/plain": [
              "<IPython.core.display.HTML object>"
            ],
            "text/html": [
              "Waiting for W&B process to finish... <strong style=\"color:green\">(success).</strong>"
            ]
          },
          "metadata": {}
        },
        {
          "output_type": "display_data",
          "data": {
            "text/plain": [
              "<IPython.core.display.HTML object>"
            ],
            "text/html": [
              "<style>\n",
              "    table.wandb td:nth-child(1) { padding: 0 10px; text-align: left ; width: auto;} td:nth-child(2) {text-align: left ; width: 100%}\n",
              "    .wandb-row { display: flex; flex-direction: row; flex-wrap: wrap; justify-content: flex-start; width: 100% }\n",
              "    .wandb-col { display: flex; flex-direction: column; flex-basis: 100%; flex: 1; padding: 10px; }\n",
              "    </style>\n",
              "<div class=\"wandb-row\"><div class=\"wandb-col\"><h3>Run history:</h3><br/><table class=\"wandb\"><tr><td>Validation_acc</td><td>▁▃▄▅▅▆▆▆▇▇▇▇▇█▇▇██████▇███████</td></tr><tr><td>Validation_loss</td><td>█▆▅▃▃▂▂▂▁▁▁▁▁▁▁▂▂▁▂▁▂▂▃▂▂▂▃▃▃▃</td></tr><tr><td>train_acc</td><td>▁▃▄▄▅▅▅▆▆▆▆▆▆▇▇▇▇▇▇▇▇█████████</td></tr><tr><td>train_loss</td><td>█▆▅▅▄▄▄▄▃▃▃▃▃▂▂▂▂▂▂▂▂▁▁▁▁▁▁▁▁▁</td></tr></table><br/></div><div class=\"wandb-col\"><h3>Run summary:</h3><br/><table class=\"wandb\"><tr><td>Validation_acc</td><td>0.7721</td></tr><tr><td>Validation_loss</td><td>0.89989</td></tr><tr><td>train_acc</td><td>0.9377</td></tr><tr><td>train_loss</td><td>0.17772</td></tr></table><br/></div></div>"
            ]
          },
          "metadata": {}
        },
        {
          "output_type": "display_data",
          "data": {
            "text/plain": [
              "<IPython.core.display.HTML object>"
            ],
            "text/html": [
              " View run <strong style=\"color:#cdcd00\">peach-disco-8</strong> at: <a href='https://wandb.ai/dl-codes/dl_project_2023/runs/v39gls81' target=\"_blank\">https://wandb.ai/dl-codes/dl_project_2023/runs/v39gls81</a><br/>Synced 5 W&B file(s), 1 media file(s), 321 artifact file(s) and 0 other file(s)"
            ]
          },
          "metadata": {}
        },
        {
          "output_type": "display_data",
          "data": {
            "text/plain": [
              "<IPython.core.display.HTML object>"
            ],
            "text/html": [
              "Find logs at: <code>./wandb/run-20230509_221926-v39gls81/logs</code>"
            ]
          },
          "metadata": {}
        }
      ]
    },
    {
      "cell_type": "code",
      "source": [
        "    "
      ],
      "metadata": {
        "id": "_9W4AMK5VL1o"
      },
      "execution_count": null,
      "outputs": []
    }
  ]
}